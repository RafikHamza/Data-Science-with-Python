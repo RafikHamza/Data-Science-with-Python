{
 "cells": [
  {
   "cell_type": "markdown",
   "id": "8e4d8507-0d49-4ac0-9d77-86b073da51dd",
   "metadata": {
    "user_expressions": []
   },
   "source": [
    "# Null Hypothesis Significance Testing for Dependence in Contingency Tables\n",
    "\n",
    "This page is a placeholder for interactive elements for Section 11.2 of *Foundations of Data Science with Python*. \n",
    "No interactive elements are available for this section at this time."
   ]
  }
 ],
 "metadata": {
  "kernelspec": {
   "display_name": "Python 3 (ipykernel)",
   "language": "python",
   "name": "python3"
  },
  "language_info": {
   "codemirror_mode": {
    "name": "ipython",
    "version": 3
   },
   "file_extension": ".py",
   "mimetype": "text/x-python",
   "name": "python",
   "nbconvert_exporter": "python",
   "pygments_lexer": "ipython3",
   "version": "3.9.15"
  }
 },
 "nbformat": 4,
 "nbformat_minor": 5
}
