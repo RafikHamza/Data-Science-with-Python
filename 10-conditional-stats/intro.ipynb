{
 "cells": [
  {
   "cell_type": "markdown",
   "id": "29b0c66f-e24e-42e8-b4b8-6dd2e11fb119",
   "metadata": {},
   "source": [
    "# Decision Making with Observations from Continuous Distributions"
   ]
  },
  {
   "cell_type": "markdown",
   "id": "52c1856e-c59c-4e8d-868a-bb0d93c93c97",
   "metadata": {
    "user_expressions": []
   },
   "source": [
    "```{image} figs/decision-making6.png\n",
    ":alt: ML Generated Image of Steampunk Style Vacuum Tube Radio\n",
    ":class: bg-primary mb-1\n",
    ":width: 250px\n",
    ":align: center\n",
    "```"
   ]
  },
  {
   "cell_type": "markdown",
   "id": "d03baabd-5c4b-4f13-839f-c469a31a6318",
   "metadata": {
    "user_expressions": []
   },
   "source": [
    "This page links to interactive elements for Chapter 10 of *Foundations of Data Science with Python*\n",
    "\n",
    "Interactive elements:\n",
    "\n",
    "* {doc}`Section 10.2: Point Conditioning<point-conditioning>` (interactive flashcards)\n",
    "* {doc}`Section 10.4: Review<review>` (interactive flashcards -- quizzes coming soon)\n"
   ]
  }
 ],
 "metadata": {
  "kernelspec": {
   "display_name": "Python 3 (ipykernel)",
   "language": "python",
   "name": "python3"
  },
  "language_info": {
   "codemirror_mode": {
    "name": "ipython",
    "version": 3
   },
   "file_extension": ".py",
   "mimetype": "text/x-python",
   "name": "python",
   "nbconvert_exporter": "python",
   "pygments_lexer": "ipython3",
   "version": "3.9.15"
  }
 },
 "nbformat": 4,
 "nbformat_minor": 5
}
