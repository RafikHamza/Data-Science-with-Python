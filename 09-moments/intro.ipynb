{
 "cells": [
  {
   "cell_type": "markdown",
   "id": "ff7594f3-206f-4ffd-adad-60d8a4d34827",
   "metadata": {},
   "source": [
    "# Moments, Parameter Estimation, and Binary Hypothesis Tests on Sample Means "
   ]
  },
  {
   "cell_type": "markdown",
   "id": "c4694205-05fa-40b0-a252-8a2cd05d31c8",
   "metadata": {
    "user_expressions": []
   },
   "source": [
    "This page links to interactive elements for Chapter 5 of *Foundations of Data Science with Python*\n",
    "\n",
    "Interactive elements:\n",
    "\n",
    "* {doc}`Section 9.1: Expected Value<expected-value>` (interactive flashcards)\n",
    "* {doc}`Section 9.2: Expected Value of a Continuous Random Variable with SymPy<expected-value-continuous>` (interactive flashcards)\n",
    "* {doc}`Section 9.3: Moments<moments>` (interactive flashcards)\n",
    "* {doc}`Section 9.4: Parameter Estimation<parameter-estimation>` (interactive flashcards)\n",
    "* {doc}`Section 9.5: Confidence Intervals for Estimates<confidence-intervals-estimates>` (algorithm for generating bootstrap confidence intervals and interactive flashcards)\n",
    "* {doc}`Section 9.7: Sampling and Bootstrap Distributions of Parameters<parameter-distributions>` (animated and interactive graphs of sampling distributions, code for illustrating bootstrap sampling, interactive flashcards)\n",
    "* {doc}`Section 9.8: Effect Size, Power, and Sample Size Selection<sample-size-selection>` (interactive flashcards)\n",
    "* {doc}`Section 9.9: Review<review>` (interactive flashcards)"
   ]
  }
 ],
 "metadata": {
  "kernelspec": {
   "display_name": "Python 3 (ipykernel)",
   "language": "python",
   "name": "python3"
  },
  "language_info": {
   "codemirror_mode": {
    "name": "ipython",
    "version": 3
   },
   "file_extension": ".py",
   "mimetype": "text/x-python",
   "name": "python",
   "nbconvert_exporter": "python",
   "pygments_lexer": "ipython3",
   "version": "3.9.15"
  }
 },
 "nbformat": 4,
 "nbformat_minor": 5
}
