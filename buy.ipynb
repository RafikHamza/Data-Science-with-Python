{
 "cells": [
  {
   "cell_type": "markdown",
   "metadata": {
    "editable": true,
    "slideshow": {
     "slide_type": ""
    },
    "tags": [],
    "user_expressions": []
   },
   "source": [
    "# Buy *Foundations of Data Science with Python*\n",
    "## by John M. Shea\n",
    "\n",
    "If you like the material on this web site, consider buying the full 502-page, full cover book:\n",
    "\n",
    "```{image} images/3d-book.png\n",
    ":alt: Cover image for the published book Foundations of Data Science with Python by John M. Shea\n",
    ":width: 300px\n",
    ":align: left\n",
    ":target: https://amzn.to/48PvKip\n",
    "```\n",
    "\n",
    "<br>\n",
    "Available to purchase now! Here is a link to purchase from [Amazon](https://amzn.to/48PvKip)[^amazon].\n",
    "\n",
    "<br clear=\"left\">\n",
    "\n",
    "[^amazon]: As an Amazon Associate I earn from qualifying purchases.\n",
    "\n"
   ]
  }
 ],
 "metadata": {
  "finalized": {
   "timestamp": 1617199767283,
   "trusted": true
  },
  "kernelspec": {
   "display_name": "Python 3 (ipykernel)",
   "language": "python",
   "name": "python3"
  },
  "language_info": {
   "codemirror_mode": {
    "name": "ipython",
    "version": 3
   },
   "file_extension": ".py",
   "mimetype": "text/x-python",
   "name": "python",
   "nbconvert_exporter": "python",
   "pygments_lexer": "ipython3",
   "version": "3.9.16"
  }
 },
 "nbformat": 4,
 "nbformat_minor": 4
}
