{
 "cells": [
  {
   "cell_type": "markdown",
   "metadata": {
    "tags": [],
    "user_expressions": []
   },
   "source": [
    "# Next Steps \n",
    "\n",
    "If you've made it through the other chapters in this book, you have built a basic working\n",
    "knowledge of some of the fundamentals of data science, including data visualization and\n",
    "manipulation, probability and statistics, and linear algebra and dimensionality reduction.\n",
    "You have learned the basics of some of the most important libraries for working with data in Python, including Pandas, NumPy, Matplotlib, SciPy, and Scikit-learn. \n",
    "However, data science is a very broad field that requires a diverse skill set. In this chapter,\n",
    "I provide some pointers to books and online courses that you might consider to further develop your data-science skill set."
   ]
  },
  {
   "cell_type": "markdown",
   "metadata": {
    "tags": [],
    "user_expressions": []
   },
   "source": [
    "## Machine Learning, Statistical Learning, and Neural Networks\n",
    "\n",
    "The next step for many readers of this book will be to learn about machine learning (ML) techniques.\n",
    "A good book to learn most of the basic concepts and techniques of ML is <a href=\"https://www.amazon.com/Machine-Learning-Course-Engineers-Scientists/dp/1108843603?crid=2DADS2GPNYHKA&_encoding=UTF8&tag=fdsp06-20&linkCode=ur2&linkId=e3322871e2da796927911d68fd21874c&camp=1789&creative=9325\" target=\"_blank\"> <i>Machine Learning:\n",
    "A First Course for Engineers and Scientists</i></a>[^amazon] by  Andreas Lindholm, Niklas Wahlström, Fredrik Lindsten, and Thomas B. Schön, published by Cambridge University Press, 2022 (ISBN 1108843603).\n",
    "\n",
    "[^amazon]: As an Amazon Associate I earn from qualifying purchases.\n",
    "\n",
    "To put these ideas into practice, I recommend <a href=\"https://www.amazon.com/Hands-Machine-Learning-Scikit-Learn-TensorFlow/dp/1098125975?crid=29LZQB04WPDJC&amp;&_encoding=UTF8&tag=fdsp06-20&linkCode=ur2&linkId=de36283270bbdfdb7c0b903689d3d2e5&camp=1789&creative=9325\" target=\"_blank\">\n",
    "<i>Hands-On Machine Learning with Scikit-Learn,\n",
    "Keras, and TensorFlow</i></a>[^amazon] (3rd edition) by  Aurélien Géron,  published by O'Reilly Media, 2022\n",
    "(ISBN 1098125975). This is a comprehensive book that includes both theory and practice. It builds upon \n",
    "our work with `scikit-learn` and leverages the popular Keras and TensorFlow  libraries for \n",
    "creating neural networks. This book covers some of the most advanced and popular neural network architectures \n",
    "and techniques as of 2022, including attention and transformers. \n",
    "\n",
    "Many ML techniques can be considered extensions of statistics techniques and thus\n",
    "are a type of statistical learning. For an accessible but broad coverage of statistical learning\n",
    "techniques, I recommend <a href=\"https://www.amazon.com/Introduction-Statistical-Learning-Applications-Statistics/dp/3031387465?&_encoding=UTF8&tag=fdsp06-20&linkCode=ur2&linkId=3d2f36e4929e0f62237ebd8cd928af2d&camp=1789&creative=9325\" target=\"_blank\"><i>An Introduction to Statistical Learning: with Applications in Python</i></a>[^amazon]\n",
    " by Gareth James, Daniela Witten, Trevor Hastie,  Robert Tibshirani, and Jonathan Taylor published by Springer, 2023 (ISBN 3031387465).\n",
    "\n",
    "**Online courses:**\n",
    "\n",
    "As an alternative to a textbook, Inria and France Université Numérique (FUN) periodically\n",
    "offer a massive open online course (MOOC) called \"Machine learning in Python with scikit-learn.\" \n",
    "Some of the `scikit-learn` core developers are involved in this course. The course runs for\n",
    "thirteen weeks and covers many of the machine-learning models in `scikit-learn`. (It does not cover\n",
    "neural networks.)  For details, see  https://www.fun-mooc.fr/en/courses/machine-learning-python-scikit-learn/\n",
    "\n",
    "To learn more about neural networks from an online course, I recommend *Practical Deep Learning for Coders*, \n",
    "from fast.ai: https://www.fast.ai/.\n",
    "This is a two-part course. Part 1 covers the basics of neural networks, and Part 2 delves into \n",
    "advanced topics, including popular neural network architectures and techniques as of 2022. Part 1 of the course is based on the book \n",
    "<a href=\"https://amzn.to/3vQMPKx\" target=\"_blank\"><i>Deep Learning for Coders with fastai \\& PyTorch: AI Applications Without a PhD</i></a>[^amazon] by Jeremy Howard and Sylvain Gugger, published by OReilly Media, 2020 (ISBN 1492045527).\n"
   ]
  },
  {
   "cell_type": "markdown",
   "metadata": {
    "tags": [],
    "user_expressions": []
   },
   "source": [
    "## An Overview of Data Science\n",
    "\n",
    "For readers who would like to get a broad overview of topics and techniques used in data science,\n",
    "I recommend\n",
    "<a href=\"https://amzn.to/42bCBjQ\" target=\"_blank\"><i>Data Science from Scratch</i></a>[^amazon] (2nd ed.) by Joel Grus, published by O'Reilly Media, 2019 (ISBN 1492041130).\n",
    "As with the book you are reading, *Data Science from Scratch* uses Python.  It provides \n",
    "a broader but less in-depth coverage of data science, including \n",
    "probability and linear algebra, statistical tests, collecting and working\n",
    "with data, machine learning, natural language processing, databases, and ethics. The coverage of each topic is not very deep, but you can get an idea of many important topics of interest to data scientists."
   ]
  },
  {
   "cell_type": "markdown",
   "metadata": {
    "user_expressions": []
   },
   "source": [
    "## Pandas\n",
    "\n",
    "The Pandas library is widely used by data scientists for loading, cleaning, manipulating, and storing data. There\n",
    "are several good choices to deepen your understanding of this powerful library, depending on your learning goals. \n",
    "Two that I recommend most are:\n",
    "\n",
    "*  <a href=\"https://amzn.to/3UaoNUV\" target=\"_blank\"><i>Python for Data Analysis: Data Wrangling with Pandas, NumPy, and Jupyter</i><a>[^amazon] (3rd edition) by  Wes McKinney,  published by O'Reilly Media,  2022 (ISBN 109810403X). \n",
    "This book covers the most important Pandas techniques and how to apply\n",
    "them. It provides detailed background on Python  and NumPy. This book also \n",
    "provides an introduction to several statistical and machine learning libraries, including Patsy,\n",
    "statsmodels, and `scikit-learn`.\n",
    "\n",
    "* For an advanced treatment that focuses solely on Pandas, I recommend <a href=\"https://amzn.to/3SbwF5U\" target=\"_blank\"><i>Effective Pandas Patterns for Data Manipulation</i></a>[^amazon] by Matt Harrison, independently published, 2021 (ISBN-13 979-8772692936).\n",
    "This book has a comprehensive and sophisticated\n",
    "coverage of   Pandas, including advanced topics, such as styling Pandas output and debugging for Pandas.\n"
   ]
  },
  {
   "cell_type": "markdown",
   "metadata": {
    "user_expressions": []
   },
   "source": [
    "## Data Visualization\n",
    "\n",
    "In this textbook, we have used a variety of plots, including scatter plots, histograms,line plots,  contour plots, and heatmaps.  However, there are many important topics in data visualization that could not be covered. \n",
    "These include principles for visualizing data and techniques for making visualizations attractive and effective at conveying a message. Many books address these topics from different aspects, but I will suggest one that I feel is most targeted toward data scientists and most usable as a follow-up text to the book you are reading. That book is <a href=\"https://amzn.to/3SgwtSX\" target=\"_blank\"><i>Fundamentals of Data Visualization: A Primer on Making Informative and Compelling Figures</i></a>[^amazon] by Claus Wilke, published by O'Reilly Media, 2019 (ISBN 1492031089). This book provides a series of chapters for visualizing different types of data but also includes a variety of topics that address important principles of data visualization. The code to generate the figures in the book is provided on the author's GitHub page in the R programming language at https://github.com/clauswilke/dataviz. However, code to create the visualizations in Python is also provided by Hoa Nguyen at https://github.com/hnguyentt/dataviz-python."
   ]
  },
  {
   "cell_type": "markdown",
   "metadata": {
    "tags": [],
    "user_expressions": []
   },
   "source": [
    "## Databases\n",
    "\n",
    "Databases are systems for storing data in an organized way that facilitate the storage and maintenance\n",
    "of huge amounts of data, while also typically providing sophisticated techniques to retrieve selected\n",
    "data for further processing.  Thus, understanding databases and how to work with them is an important \n",
    "skill for data science. For those who are new to databases, I recommend learning about \n",
    "Structured Query Language (SQL &mdash; pronounced \"ess cue ell\" or like the word \"sequel\"), which\n",
    "is a language for creating, manipulating, and querying databases.   SQL databases are the most\n",
    "common structured databases.\n",
    "\n",
    "For a general introduction to databases and SQL, I recommend <a href=\"https://amzn.to/48HO1hI\" target=\"_blank\">\n",
    "<i>Getting Started with SQL: A Hands-On Approach for Beginners</i></a>[^amazon]  by \n",
    "Thomas Nield, published by O'Reilly Media, 2016 (ISBN 1491938617).\n",
    "This book has the advantage that it teaches\n",
    "users about SQL programming through the use of  SQLite and SQLiteStudio. SQLite is a serverless\n",
    "SQL database, and SQLiteStudio provides a graphical interface for working with the SQLite database. \n",
    "The combination makes it easy for users to get started learning SQL. The book covers all the \n",
    "basic features of SQL and covers important topics, such as how to design a database structure. It\n",
    "also provides links to next steps.\n",
    "\n",
    "If you prefer to learn about SQL in the context of data science, I recommend <a href=\"https://amzn.to/47OB8RB\" target=\"_blank\">\n",
    "<i>SQL for Data Scientists: A Beginner's Guide for Building Datasets for Analysis</i></a>[^amazon]\n",
    "by Renee M. P. Teate, published by Wiley, 2021 (ISBN 1119669367).\n",
    "This book uses an example of a Farmer's Market Database throughout the book, and the book's website\n",
    "provides an Interactive SQL Editor that can be used to interact with this database without having to \n",
    "install an SQL server.\n"
   ]
  },
  {
   "cell_type": "markdown",
   "metadata": {
    "user_expressions": []
   },
   "source": [
    "## Probability\n",
    "\n",
    "For readers who want to learn more about probability, I recommend <a href=\"https://www.amazon.com/Probability-Statistics-Processes-Electrical-Engineering/dp/0131471228\"><i>Probability, Statistics, and Random\n",
    "Processes for Electrical Engineering</i></a>[^amazon] (3rd edition) by Alberto Leon-Garcia,  published by Pearson, 2008\n",
    "(ISBN 0131471228). This is a traditional textbook targeted at undergraduate and graduate engineering students,\n",
    "and it treats probability and statistics using a theoretical and mathematical approach.\n",
    "This book does not require an electrical engineering (EE) background but does have some examples that are\n",
    "more targeted toward EE. This book covers a huge amount of material. It is very well written and has lots of\n",
    "examples to help readers master the material. "
   ]
  },
  {
   "cell_type": "markdown",
   "metadata": {
    "user_expressions": []
   },
   "source": [
    "## Keeping Up with What's Next\n",
    "\n",
    "\"Towards Data Science\": https://towardsdatascience.com/ is a Medium publication that produces a constant stream\n",
    "of curated articles related to data science and machine learning. This website will help you keep up with the current trends in the field, and it also has many tutorials that will help you learn new statistical techniques.\n"
   ]
  }
 ],
 "metadata": {
  "kernelspec": {
   "display_name": "Python 3 (ipykernel)",
   "language": "python",
   "name": "python3"
  },
  "language_info": {
   "codemirror_mode": {
    "name": "ipython",
    "version": 3
   },
   "file_extension": ".py",
   "mimetype": "text/x-python",
   "name": "python",
   "nbconvert_exporter": "python",
   "pygments_lexer": "ipython3",
   "version": "3.9.16"
  }
 },
 "nbformat": 4,
 "nbformat_minor": 4
}
