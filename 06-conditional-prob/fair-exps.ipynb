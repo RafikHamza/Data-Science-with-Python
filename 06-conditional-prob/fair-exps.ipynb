{
 "cells": [
  {
   "cell_type": "markdown",
   "id": "1bb06507-1f0a-4cfe-991f-c2d60a926277",
   "metadata": {
    "user_expressions": []
   },
   "source": [
    "# Conditional Probabilities and Independence in Fair Experiments\n",
    "\n",
    "This page is a placeholder for interactive elements for Section 6.7 of Foundations of Data Science with Python. No interactive elements are available for this section at this time.\n"
   ]
  }
 ],
 "metadata": {
  "kernelspec": {
   "display_name": "Python 3 (ipykernel)",
   "language": "python",
   "name": "python3"
  },
  "language_info": {
   "codemirror_mode": {
    "name": "ipython",
    "version": 3
   },
   "file_extension": ".py",
   "mimetype": "text/x-python",
   "name": "python",
   "nbconvert_exporter": "python",
   "pygments_lexer": "ipython3",
   "version": "3.9.15"
  }
 },
 "nbformat": 4,
 "nbformat_minor": 5
}
