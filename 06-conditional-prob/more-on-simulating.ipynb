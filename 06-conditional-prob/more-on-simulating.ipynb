{
 "cells": [
  {
   "cell_type": "markdown",
   "id": "857d028a-89a2-4b08-a71c-7857b234d813",
   "metadata": {},
   "source": [
    "# More on Simulating Conditional Probabilities\n",
    "\n",
    "This page is a placeholder for interactive elements for Section 6.5 of Foundations of Data Science with Python. No interactive elements are available for this section at this time.\n"
   ]
  }
 ],
 "metadata": {
  "kernelspec": {
   "display_name": "Python 3 (ipykernel)",
   "language": "python",
   "name": "python3"
  },
  "language_info": {
   "codemirror_mode": {
    "name": "ipython",
    "version": 3
   },
   "file_extension": ".py",
   "mimetype": "text/x-python",
   "name": "python",
   "nbconvert_exporter": "python",
   "pygments_lexer": "ipython3",
   "version": "3.9.15"
  }
 },
 "nbformat": 4,
 "nbformat_minor": 5
}
