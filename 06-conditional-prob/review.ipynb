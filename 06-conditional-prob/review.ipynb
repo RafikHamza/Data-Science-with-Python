{
 "cells": [
  {
   "cell_type": "markdown",
   "id": "db1d9815-3d2d-4448-9e2d-a4033218ac22",
   "metadata": {
    "user_expressions": []
   },
   "source": [
    "# Review"
   ]
  },
  {
   "cell_type": "markdown",
   "id": "b3c2f2ad-b357-42e7-9ae9-c1a6b15e8017",
   "metadata": {
    "user_expressions": []
   },
   "source": [
    "## Terminology Review\n",
    "Interactive flashcards to review the terminology introduced in this Chapter and self-assessment questions are available at\n",
    "https://fdsp.net/6-10.html\n",
    "$~~~~ ~~~~ ~~~~$"
   ]
  }
 ],
 "metadata": {
  "kernelspec": {
   "display_name": "Python 3 (ipykernel)",
   "language": "python",
   "name": "python3"
  },
  "language_info": {
   "codemirror_mode": {
    "name": "ipython",
    "version": 3
   },
   "file_extension": ".py",
   "mimetype": "text/x-python",
   "name": "python",
   "nbconvert_exporter": "python",
   "pygments_lexer": "ipython3",
   "version": "3.9.15"
  }
 },
 "nbformat": 4,
 "nbformat_minor": 5
}
