{
 "cells": [
  {
   "cell_type": "markdown",
   "metadata": {},
   "source": [
    "# Histograms of Continuous Random Variables and Kernel Density Estimation\n"
   ]
  },
  {
   "cell_type": "markdown",
   "metadata": {
    "user_expressions": []
   },
   "source": [
    "**Animation Illustrating Creating a Histogram By Dropping Blocks**"
   ]
  },
  {
   "cell_type": "markdown",
   "metadata": {},
   "source": [
    "Create 40 Normal random variables:"
   ]
  },
  {
   "cell_type": "code",
   "execution_count": 2,
   "metadata": {},
   "outputs": [],
   "source": [
    "import scipy.stats as stats\n",
    "\n",
    "N=stats.norm()\n",
    "N40=N.rvs(size=40)"
   ]
  },
  {
   "cell_type": "markdown",
   "metadata": {
    "user_expressions": []
   },
   "source": [
    "Here is an animated GIF showing a histogram of data from this distribution being created step by step:\n",
    "\n",
    "![](figs/histogram.gif \"Animated Histogram of Gaussian Data\")"
   ]
  },
  {
   "cell_type": "markdown",
   "metadata": {
    "user_expressions": []
   },
   "source": [
    "**Animation Illustrating Stacking Blocks Centered on Observed Value**\n",
    "\n",
    "We repeat the process that created the histogram above, but let the blocks\n",
    "be centered on the observed value (rather than fitting to some histogram\n",
    "bin). Then we let each part of the block drop to the lowest unfilled level:\n",
    "\n",
    "![](figs/kde_rect.gif \"Animated Histogram with Blocks Centered on Observations, Gaussian Data\")\n",
    "\n"
   ]
  },
  {
   "cell_type": "markdown",
   "metadata": {
    "user_expressions": []
   },
   "source": [
    "**Animation Illustrating Stacking Smooth Shapes on Observed Values**\n",
    "\n",
    "Now we replace the rectangular block with a smoother shape &mdash; \n",
    "a Normal pdf. The idea is that the smoother shapes should combine \n",
    "to create a smoother estimate of the pdf of the random variable \n",
    "from which the samples came."
   ]
  },
  {
   "cell_type": "markdown",
   "metadata": {
    "user_expressions": []
   },
   "source": [
    "Here is an aminated GIF showing this new type of histogram of the data being created step by step:\n",
    "\n",
    "![](figs/kde_gauss.gif \"Animated Histogram Built from Gaussian Shapes Centered on Observations, Gaussian Data\")\n",
    "\n"
   ]
  }
 ],
 "metadata": {
  "kernelspec": {
   "display_name": "Python 3 (ipykernel)",
   "language": "python",
   "name": "python3"
  },
  "language_info": {
   "codemirror_mode": {
    "name": "ipython",
    "version": 3
   },
   "file_extension": ".py",
   "mimetype": "text/x-python",
   "name": "python",
   "nbconvert_exporter": "python",
   "pygments_lexer": "ipython3",
   "version": "3.9.15"
  }
 },
 "nbformat": 4,
 "nbformat_minor": 4
}
