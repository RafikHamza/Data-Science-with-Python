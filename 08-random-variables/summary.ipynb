{
 "cells": [
  {
   "cell_type": "markdown",
   "id": "225a722c-7b09-47e8-95bb-99d97e4b9e71",
   "metadata": {
    "user_expressions": []
   },
   "source": [
    "# Summary\n",
    "\n",
    "\n",
    "This page is a placeholder for interactive elements for Section 8.10 of *Foundations of Data Science with Python*. \n",
    "No interactive elements are available for this section at this time.\n"
   ]
  }
 ],
 "metadata": {
  "kernelspec": {
   "display_name": "Python 3 (ipykernel)",
   "language": "python",
   "name": "python3"
  },
  "language_info": {
   "codemirror_mode": {
    "name": "ipython",
    "version": 3
   },
   "file_extension": ".py",
   "mimetype": "text/x-python",
   "name": "python",
   "nbconvert_exporter": "python",
   "pygments_lexer": "ipython3",
   "version": "3.9.15"
  }
 },
 "nbformat": 4,
 "nbformat_minor": 5
}
