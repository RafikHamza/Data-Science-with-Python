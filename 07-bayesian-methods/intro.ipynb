{
 "cells": [
  {
   "cell_type": "markdown",
   "id": "1522b09d-ff59-45bc-af6c-00ede380f909",
   "metadata": {
    "user_expressions": []
   },
   "source": [
    "# Introduction to Bayesian Methods\n",
    "\n",
    "![ML-generated image for prompt \"Introduction to Bayesian Methods\"](figs/introduction-to-bayesian-methods.jpg)\n",
    "\n"
   ]
  },
  {
   "cell_type": "markdown",
   "id": "ed6a3940-e9fc-45a1-a334-57c3145400b2",
   "metadata": {
    "user_expressions": []
   },
   "source": [
    "This page links to interactive elements for Chapter 5 of *Foundations of Data Science with Python*\n",
    "\n",
    "Interactive elements:\n",
    "\n",
    "* {doc}`Section 7.1: Bayes' Rule<bayes-rule>` (interactive quiz and interactive flashcards)\n",
    "* {doc}`Section 7.2: Bayes' Rule in Systems with Hidden State<bayes-hidden-state>` (interactive quiz and interactive flashcards)\n",
    "* {doc}`Section 7.3: Optimal Decisions for Discrete Stochastic Systems<optimal-decisions>` (interactive flashcards)\n",
    "* {doc}`Section 7.4: Optimal Decisions for Discrete Stochastic Systems<bayesian-hypothesis-testing>` (interactive flashcards)\n",
    "* {doc}`Section 7.5: Review<review>` (interactive flashcards)\n"
   ]
  }
 ],
 "metadata": {
  "kernelspec": {
   "display_name": "Python 3 (ipykernel)",
   "language": "python",
   "name": "python3"
  },
  "language_info": {
   "codemirror_mode": {
    "name": "ipython",
    "version": 3
   },
   "file_extension": ".py",
   "mimetype": "text/x-python",
   "name": "python",
   "nbconvert_exporter": "python",
   "pygments_lexer": "ipython3",
   "version": "3.9.15"
  }
 },
 "nbformat": 4,
 "nbformat_minor": 5
}
