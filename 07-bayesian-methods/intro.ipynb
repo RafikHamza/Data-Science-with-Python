{
 "cells": [
  {
   "cell_type": "markdown",
   "id": "1522b09d-ff59-45bc-af6c-00ede380f909",
   "metadata": {
    "editable": true,
    "slideshow": {
     "slide_type": ""
    },
    "tags": [],
    "user_expressions": []
   },
   "source": [
    "# Introduction to Bayesian Methods\n"
   ]
  },
  {
   "cell_type": "markdown",
   "id": "ed6a3940-e9fc-45a1-a334-57c3145400b2",
   "metadata": {
    "editable": true,
    "slideshow": {
     "slide_type": ""
    },
    "tags": [],
    "user_expressions": []
   },
   "source": [
    "This page links to interactive elements for Chapter 5 of *Foundations of Data Science with Python*\n",
    "\n",
    "Interactive elements:\n",
    "\n",
    "* {doc}`Section 7.1: Bayes' Rule<1-bayes-rule>` (interactive quiz and interactive flashcards)\n",
    "* {doc}`Section 7.2: Bayes' Rule in Systems with Hidden State<2-bayes-hidden-state>` (interactive quiz and interactive flashcards)\n",
    "* {doc}`Section 7.3: Optimal Decisions for Discrete Stochastic Systems<3-optimal-decisions>` (interactive quiz and flashcards)\n",
    "* {doc}`Section 7.4: Optimal Decisions for Discrete Stochastic Systems<4-bayesian-hypothesis-testing>` (interactive quiz and flashcards)\n",
    "* {doc}`Section 7.5: Review<5-summary>` (interactive flashcards)\n"
   ]
  }
 ],
 "metadata": {
  "kernelspec": {
   "display_name": "Python 3 (ipykernel)",
   "language": "python",
   "name": "python3"
  },
  "language_info": {
   "codemirror_mode": {
    "name": "ipython",
    "version": 3
   },
   "file_extension": ".py",
   "mimetype": "text/x-python",
   "name": "python",
   "nbconvert_exporter": "python",
   "pygments_lexer": "ipython3",
   "version": "3.11.0"
  }
 },
 "nbformat": 4,
 "nbformat_minor": 5
}
