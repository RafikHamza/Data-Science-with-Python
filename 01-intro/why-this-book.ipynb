{
 "cells": [
  {
   "cell_type": "markdown",
   "metadata": {
    "user_expressions": []
   },
   "source": [
    "# Why learn data science from this book?\n",
    "\n",
    "This book uses a **computational first** approach to data science. You will learn how to leverage the power of\n",
    "modern computers and scientific software to visualize, transform, and simulate data.\n",
    "For instance, one of the main approaches used in this book is to conduct statistical tests by carrying out\n",
    "simulations that draw samples from the data being analyzed. This approach has the following benefits:\n",
    "\n",
    "* **We start working with real data sets quickly** because this approach does not require a lot of mathematical background and the computer does all the mathematical manipulation and plotting.\n",
    "\n",
    "* **Simulation models are easy to create and understand.** The results do not rely on any arcane formulas but only the ability to build very simple simulations that draw from the experimental data.\n",
    "\n",
    "\n",
    "* **This approach is more general than the traditional approach.** It does not rely on the data coming from specific probability distributions, and the same simulation can be used to generate frequentist or Bayesian statistics.\n",
    "\n",
    "\n",
    "\n",
    "Interactive flashcards and self-assessment quizzes are provided on this website and linked using QR codes in the book.\n",
    "\n",
    "\n",
    "The interactive materials use spaced repetition to help readers retain knowledge\n",
    "as they progress through the book. Starting with Chapter 2, the\n",
    "interactive chapter reviews also give a random subset of review problems from\n",
    "earlier chapters. Research shows that spaced repetition improves the retention\n",
    "of material.\n",
    "\n",
    "\n",
    "Each chapter of the book ends with “take-aways” that help summarize the important points from the chapter and address issues that may be topics of questions in data science interviews.\n",
    "\n",
    "\n"
   ]
  }
 ],
 "metadata": {
  "finalized": {
   "timestamp": 1617199748724,
   "trusted": true
  },
  "kernelspec": {
   "display_name": "Python 3 (ipykernel)",
   "language": "python",
   "name": "python3"
  },
  "language_info": {
   "codemirror_mode": {
    "name": "ipython",
    "version": 3
   },
   "file_extension": ".py",
   "mimetype": "text/x-python",
   "name": "python",
   "nbconvert_exporter": "python",
   "pygments_lexer": "ipython3",
   "version": "3.9.16"
  }
 },
 "nbformat": 4,
 "nbformat_minor": 4
}
