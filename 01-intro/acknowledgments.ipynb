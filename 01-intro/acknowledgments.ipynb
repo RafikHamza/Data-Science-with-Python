{
 "cells": [
  {
   "cell_type": "markdown",
   "id": "1e7a099e-f25e-4450-9cca-563b88e6bc9b",
   "metadata": {
    "user_expressions": []
   },
   "source": [
    "# Acknowledgments\n",
    "\n",
    "I would like to thank the many people who helped make this book possible. Thanks first to my wife, Jill, and my children, Tucker, Charlotte, and Amelia, who gave me moral support and also reviewed the text. Thank you to John  Harris, Dean of the College of Engineering at the Florida Institute of Technology (as of this writing in 2023), who convinced me to develop the data science course on which this book is based. Thank you to Catia Silva who was my co-instructor for one of the semesters teaching the data science course, and who provided some updates and additional contributions to the notes on which this book is based. Several students provided feedback on the book, including Caleb Bowyer, Walter Acosta, Cortland Bailey, Brennan Borchert, Alexander Braun, Patrick Craig, Justin Nagovskiy, Allison Neil, Michael Russo, Dieter Steinhauser, Phillip Thompson, and Marisa Younger. "
   ]
  }
 ],
 "metadata": {
  "kernelspec": {
   "display_name": "Python 3 (ipykernel)",
   "language": "python",
   "name": "python3"
  },
  "language_info": {
   "codemirror_mode": {
    "name": "ipython",
    "version": 3
   },
   "file_extension": ".py",
   "mimetype": "text/x-python",
   "name": "python",
   "nbconvert_exporter": "python",
   "pygments_lexer": "ipython3",
   "version": "3.9.15"
  }
 },
 "nbformat": 4,
 "nbformat_minor": 5
}
