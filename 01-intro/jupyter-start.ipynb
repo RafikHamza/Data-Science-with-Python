{
 "cells": [
  {
   "cell_type": "markdown",
   "metadata": {
    "user_expressions": []
   },
   "source": [
    "# Getting Started in Jupyter\n",
    "\n",
    "Let's begin exploring JupyterLab using an existing notebook:\n",
    "\n",
    "**1) Download a Jupyter notebook file.**\n",
    "\n",
    "We will use the file \"jupyter-intro.ipynb\", which is available by clicking on the link below or typing the link into your browser:\n",
    "\n",
    "https://raw.githubusercontent.com/jmshea/Foundations-of-Data-Science-with-Python/main/01-intro/jupyter-intro.ipynb\n",
    "\n",
    "If your browser displays the notebook as text, you will need to tell it to save it as a file. You can usually do this by right-clicking or control-clicking in the browser window and choosing to save the page as a file. For instance, in Safari 14, choose the \"Save Page As...\" menu item. Be sure to name your file with a *.ipynb* ending.\n",
    "\n",
    "*Hint:* If your file was saved to your default Downloads folder, be sure to move it to an appropriate folder in your `data-science` folder to keep things organized!"
   ]
  },
  {
   "cell_type": "markdown",
   "metadata": {
    "user_expressions": []
   },
   "source": [
    "**2) Start JupyterLab.**\n",
    "\n",
    "JupyterLab can be started from the Anaconda-Navigator program that is installed with the Anaconda distribution. Start Anaconda-Navigator, scroll to find JupyterLab, and then click the *Launch* button under JupyterLab. JupyterLab should start up in your browser.\n",
    "\n",
    "*Alternative for command-line users:* From the command prompt, you can start JupyterLab by typing ```jupyter lab``` (provided the Anaconda bin directory is on the command line search path). Because setting this up is specialized to each operating system and command shell, the details are omitted. However, details of how to set up the path for Anaconda can be found at many sites online.\n"
   ]
  },
  {
   "cell_type": "markdown",
   "metadata": {
    "user_expressions": []
   },
   "source": [
    "\n",
    "Your JupyterLab should open to a view that looks something like the one below:\n",
    "\n",
    "```{figure} jupyter-lab-start.png\n",
    "---\n",
    "height: 5in\n",
    "name: jupyter-lab-start\n",
    "---\n",
    "The JupyterLab interface.\n",
    "```\n",
    "\n",
    "```{warning}\n",
    "If you have used JupyterLab before, it may not look like this -- it will pick up where you left off!\n",
    "```\n",
    "\n"
   ]
  },
  {
   "cell_type": "markdown",
   "metadata": {
    "user_expressions": []
   },
   "source": [
    "The JupyterLab interface has many different parts:\n",
    "\n",
    "1. The **menu bar** is across the very top of the JupyterLab app. I will introduce the use of menus later in this lesson.\n",
    "2. The **left sidebar** occupies the left side below the menu bar. It includes several different tabs, which you can switch between by clicking the various icons on the very far left of the left sidebar. In {numref}`jupyter-lab-start`, the folder icon is highlighted, which indicates that the file browser is selected. For this book, we will use the left sidebar only to access the file browser.\n",
    "3. The **main work area** is to the right of the left sidebar. The main work area will usually show whatever document you are working on. However, if you have not opened any document yet, it will show you different types of notebooks that you can open and other tools that you can access. To start a completely new Jupyter notebook file that can run Python 3 code, you could click on the Python 3 icon under ```Notebooks```. For now, you do not need to do that.\n",
    "\n",
    "Detailed documentation for JupyterLab is available at https://jupyterlab.readthedocs.io/."
   ]
  },
  {
   "cell_type": "markdown",
   "metadata": {
    "user_expressions": []
   },
   "source": [
    "**3) Navigate to the downloaded notebook.**\n",
    "\n",
    "Use the file browser in the left sidebar of JupyterLab to navigate to the downloaded file. \n",
    "\n",
    "*If the file browser is not already showing your files, click on the folder icon (on the very left-hand side of the window) to switch to it.*\n",
    "\n",
    "Navigation using the file browser should be similar to navigating in most file selection boxes:\n",
    "\n",
    "* Single click on items to select them.\n",
    "* Double click on a folder to navigate into it. \n",
    "* Double click on a file to open it.\n",
    "* As you navigate into folders, the current path (relative to your starting path) is shown above the file list. You can navigate back out of a folder by clicking on the parent folder's *name* in the current path.\n",
    "\n",
    "If you downloaded the file ```jupyter-intro.ipynb``` to the ```chapter1``` subdirectory of the ```data-science``` directory, which lies in your home directory, then  you would:\n",
    "\n",
    "* Double click on the ```data-science``` folder.\n",
    "* Double click on the ```chapter1``` folder.\n",
    "* Double click on the file ```jupyter-intro.ipynb```.\n",
    "\n",
    "The file ```jupyter-intro.ipynb``` should open in the main work area."
   ]
  },
  {
   "cell_type": "markdown",
   "metadata": {
    "slideshow": {
     "slide_type": "slide"
    },
    "user_expressions": []
   },
   "source": [
    "```{index} JupyterLab\n",
    "```\n",
    "\n",
    "## Learn the basics of JupyterLab\n",
    "\n",
    "After opening the ```jupyter-intro.ipynb``` notebook, take a minute to scroll through the notebook before interacting with it. \n",
    "Note that the notebook includes formatted text, graphics, mathematics, and Python programming code.\n",
    "You will learn to use all of these features as you work through this book.\n",
    "\n",
    "### Notebook structure\n",
    "\n",
    "Jupyter notebooks are subdivided into parts called **cells**. Each cell can be used for different purposes; we will use them for either Python code or for Markdown.  Markdown is a simple markup language that allows the creation of formatted text with math and graphics. Code cells are subdivided into Input and Output parts. Single click on any part of the ```intro.ipynb``` notebook to select a cell. The selected cell will be indicated by a color bar along the entire left side of the cell.\n",
    "\n",
    "```{index} JupyterLab; interface modes\n",
    "```\n",
    "\n",
    "### JupyterLab interface modes\n",
    "\n",
    "The JupyterLab user interface can be in one of two modes, and these modes affect what you can do with a cell:\n",
    "\n",
    "* In **Edit Mode**, the focus is on one cell, which will be outlined in color (blue on my computer with the default theme), and the cursor will contain a blinking cursor indicating where typed text will appear.\n",
    "* In **Command Mode**, you cannot edit or enter text into a cell. Instead, you can navigate among cells and use keyboard shortcuts to act on them, including running cells, selecting groups of cells, and copying/cutting/pasting or deleting cells.\n",
    "\n",
    "There are several ways to switch between modes:\n",
    "\n",
    "In **Command Mode**, here are two ways to switch to **Edit Mode** and begin editing a cell: \n",
    "\n",
    "* Double-click on a cell.\n",
    "* Select a cell using the cursor keys and then press Enter.\n",
    "\n",
    "In **Edit Mode**, here are two ways to switch to **Command Mode**:\n",
    "\n",
    "* Press the ESC key. The current cell is *not evaluated*, but it will be selected in **Command Mode**.\n",
    "* If editing a cell that is *not* the last cell in the notebook, press Shift-Enter to *evaluate* the current cell and return to **Command Mode**. (If you are in the last cell of the notebook, Shift-Enter will evaluate the current cell, create a new cell below it, and remain in **Edit Mode** in the newly created cell.)"
   ]
  },
  {
   "cell_type": "markdown",
   "metadata": {
    "user_expressions": []
   },
   "source": [
    "## More on cells\n",
    "\n",
    "In **Edit Mode**, code or Markdown can be typed into a cell. Remember that each cell has a *cell type* associated with it. The cell type does not limit what can be entered into a cell.  The cell type **determines how a cell is evaluated**.  When a cell is evaluated, the contents are parsed by either a Markdown render (for a Markdown cell) or the Python kernel (for a Code cell). \n",
    "A *kernel* is a process that can run code that has been entered in the notebook. JupyterLab supports different kernels, but we will only use a Python kernel. \n",
    "Cells may be evaluated in many different ways. Here are a few of the typical ways that we will use:\n",
    "* Most commonly, we will evaluate the current cell by pressing `Shift-Enter` on the keyboard. This will always evaluate the current cell. If this is the last cell in the notebook, it will also insert a new cell below the current cell, making it easy to continue building the notebook.\n",
    "* It is also possible to evaluate a cell using the toolbar at the top of the notebook.  Use the triangular \"play\" button (pointed to by the red arrow in the image below) to execute the currently selected cell or cells.\n",
    "![Play button to evaluate a notebook cell](play-button.png)\n",
    "* Sometimes we wish to make changes in the middle of an existing notebook. To evaluate the current cell and insert a new cell below it, press `Alt-Enter` on the computer keyboard.\n",
    "* Cells can also be run by some of the commands in the `Kernel` menu in the JupyterLab menu. For example, it is always best to reset the Python kernel and run all the cells in a notebook from top to bottom before sharing a Jupyter notebook with someone else (for example, before submitting an assignment). To do this, click on the `Kernel` menu and choose the `Restart Kernel and Run All Cells...` menu item.\n",
    "\n",
    "If you enter Markdown into a Code cell or Python into a Markdown cell, the results will not be what you intend. For instance, most Markdown is not valid Python, and so if Markdown is entered into a Code cell, a syntax error will be displayed when the cell is evaluated.  Fortunately, you can change the cell type afterward to make it evaluate properly.\n",
    "\n",
    "```{admonition} Important!\n",
    ":class: warning\n",
    "New cells, including the starting cell of a new notebook, start as *Code* cells.\n",
    "```\n",
    "\n",
    "Cells start as *Code* cells, but we often want to enter Markdown instead. We also may wish to switch a *Markdown* cell back to a *Code* cell. There are three easy ways to change the cell type:\n",
    "* As seen below, you can use the drop-down menu at the top of the notebook to set the cell type to *Code*, *Markdown*, or *Raw*.\n",
    "\n",
    "![](cell-type-dropdown.png)\n",
    "\n",
    "* If you are in command mode, you can use a keyboard shortcut to change the type of a selected cell. The standard keyboard shortcuts are ```m``` for *Markdown* and ```y``` for *Code*.\n",
    "* If you are not in command mode, you can still use a keyboard shortcut, but you will need to press ```Control-m``` first, and then press either ```m``` for *Markdown* or ```y``` for *Code*.\n",
    "\n",
    "\n",
    "\n",
    "\n"
   ]
  },
  {
   "cell_type": "markdown",
   "metadata": {
    "user_expressions": []
   },
   "source": [
    "```{index} Jupyter;Markdown\n",
    "```\n",
    "\n",
    "\n",
    "\n",
    "## Intro to Markdown in Jupyter\n",
    "\n",
    "In this book, you will use Jupyter both to perform data analysis and to create documents that describe the results of your analysis.\n",
    "Although we will use code to process the data and generate graphs, that is usually not enough to tell the story to a reader of your document. Markdown is used to add text, heading, mathematics, and other graphics.\n",
    "\n",
    "The example notebook `jupyter-intro.ipynb` demonstrates the main features of Markdown that we will need in this book. Recall that you can double click on any cell in the notebook to see the Markdown source. The `jupyter-intro.ipynb` notebook  illustrates several features of Markdown:\n",
    "\n",
    "**1. Headings**\n",
    "\n",
    "The first cell (starting with \"Intro to Markdown\") illustrates how to use Markdown to format headings.\n",
    "Headings are entered by prefacing text with one or more # (usually pronounced \"hash\") symbols followed by a space. If you know any HTML, then `# Title` is equivalent to a `<h1>Title</h1>`, `### Subtitle` is equivalent to `<h2>Subtitle</h2>`, etc. Note that you must put a space between the hashes and the text for it to be recognized as a heading.\n",
    "\n",
    "**2. Text and paragraphs**\n",
    "\n",
    "The second cell shows paragraphs of text. Regular text can be entered as normal. \n",
    "Blank lines between text indicate the start of a new paragraph; press `Enter` twice\n",
    "at the end of a paragraph to leave such a blank line.\n",
    "Other line breaks do not create a new paragraph and can be used\n",
    "to avoid over-long lines of text or to separate sentences so they can be \n",
    "more easily reordered in the future.\n",
    "\n",
    "**3. Emphasis**\n",
    "\n",
    "The third cell (labeled \"***Emphasis***\") illustrates how to make text italicized or bold.  Double click on the cell (to view the source text).  \n",
    "* Text can be italicized by surrounding it with single asterisks, like `*italicize text*`: *italicize text*.\n",
    "* Similarly, text can be bolded by surrounding it with double asterisks, like `**bold text**`: **bold text**.\n",
    "* Text can be both italicized and bolded by surrounding it with triple asterisks, like `***bold and italics***`: ***bold and italics***.\n",
    "\n",
    "**4. Bulleted and Numbered Lists**\n",
    "\n",
    "The fourth cell illustrates how to make bulleted and numbered lists.\n",
    "\n",
    "**Bulleted lists** can be created by starting a line with an asterisk and a space, followed by the text of the bulleted item. Bulleted sub-lists can be created by tab-indenting a bulleted list under a bulleted item. For example,\n",
    "\n",
    "<pre>\n",
    "* Item 1\n",
    "    * Item 1.1\n",
    "    * Item 1.2\n",
    "    \n",
    "*Item 2\n",
    "</pre>\n",
    "\n",
    "formats as\n",
    "* Item 1\n",
    "    * Item 1.1\n",
    "    * Item 1.2\n",
    "*Item 2\n",
    "\n",
    "**Numbered lists** can be created by starting a line with a number, a period, and a space, followed by the item to be numbered. *Note that the first number you use in a sequence of numbered items will determine the starting point for numbering, but later values are ignored. It is a good habit to use 1 for every numbered item because then you can rearrange the items via cut-and-paste without worrying about upsetting the overall list numbering.*  Numbered sub-lists can be created by tab-indenting a numbered list under a numbered item. For example,\n",
    "\n",
    "<pre>\n",
    "1. Item 1\n",
    "    1. Item 1.1\n",
    "    1. Item 1.2\n",
    "3. Item 2\n",
    "</pre>\n",
    "formats as\n",
    "1. Item 1\n",
    "    1. Item 1.1\n",
    "    1. Item 1.2\n",
    "3. Item 2\n",
    "\n",
    "**5. Links and images**\n",
    "\n",
    "The fifth cell gives an example of a link and an image.\n",
    "\n",
    "**Links** are easily created by putting the link text in square brackets, followed by the link URL in parentheses, like:\n",
    "```\n",
    "[Example link](http://google.com)\n",
    "```\n",
    "which is rendered as \n",
    "\n",
    "[Example link](http://google.com)\n",
    "\n",
    "**Images** are entered in a very similar way to URLs. Just put an exclamation point (!) before the square brackets. The text in the square brackets will be used as the \"alt text\", which is used by screen readers or displayed when hovering the mouse over the image. Images can also be inserted by dragging them from your file manager into a cell. After the Markdown code is inserted, you can edit the alt-text to something more meaningful.\n",
    "\n",
    "**6. Mathematics**\n",
    "\n",
    "```{index} Jupyter; LaTeX\n",
    "```\n",
    "\n",
    "\n",
    "The sixth cell (labeled \"Mathematics\") illustrates formatted mathematics.   Markdown in Jupyter supports sophisticated formatting of mathematics using\n",
    "LaTeX (pronounced *lay tek*) notation.   For inline equations (those that will appear in-line with text, include the \n",
    "<!-- $\\LaTeX$ -->\n",
    "LaTeX notation between dollar signs, like `$\\sin^2 x$` renders as $\\sin^2 x$. \n",
    "Longer equations should be displayed on lines separate from the text and can be created by enclosing them between pairs of dollar signs. For example,\n",
    "\n",
    "    $$\n",
    "    \\int_{0}^{\\infty} e^{-x}~dx = 1\n",
    "    $$\n",
    "\n",
    "is rendered as\n",
    "\n",
    "$$\n",
    "\\int_{0}^{\\infty} e^{-x}~dx = 1\n",
    "$$\n",
    "\n",
    "**7. Other Markdown formatting**\n",
    "\n",
    "Markdown has many other features that we will not cover, such as horizontal rules, block quotes, syntax highlighting, and tables.\n",
    "A good reference for Markdown syntax is\n",
    "[Markdown Guide (https://www.markdownguide.org/extended-syntax/)](https://www.markdownguide.org/extended-syntax/)\n"
   ]
  },
  {
   "cell_type": "markdown",
   "metadata": {
    "user_expressions": []
   },
   "source": [
    "## Getting Notebooks Into and Out of JupyterLab\n",
    "\n",
    "There are several ways to get notebooks into JupyterLab:\n",
    "* As previously mentioned, you can use the left-hand files pane to navigate to the current location of a file. Note that you will be constrained to only navigating to files in the directory in which  Jupyter was started or in any subdirectory below that. One disadvantage of this approach is that your work will be saved wherever that file currently resides. For instance, if you have downloaded a notebook from the internet into your `Downloads` folder, your work on that notebook will remain in the `Downloads` folder.\n",
    "* You can use drag-and-drop to copy any file into a directory that you are currently browsing using JupyterLab's files pane. To do this:\n",
    "    * Open the files panel in Jupyter and navigate to the directory where you want to work.\n",
    "    * In your operating system's file manager (e.g., Windows Explorer or Mac Finder), open the folder containing the file you want to copy.\n",
    "    * Position and resize the folder and your web browser's window so you can see both simultaneously.\n",
    "    * Click and hold on the Jupyter notebook file that you want to move. Then drag it onto the files panel.\n",
    "    * When the Jupyter notebook is over JupyterLab's files panel, the outline of the files panel will change to indicate that it is ready for you to drop the file. Release the mouse button or trackpad to copy the file into the selected directory.\n",
    "    * **Note that this makes a copy of the file from its original location.**\n",
    "* As an alternative to drag-and-drop, you can click on the upload icon (an arrow with a line under it) at the very top of the files panel. This will bring up a file selector that you can use to copy a file from anywhere on your computer.\n",
    "    \n",
    "    \n",
    "\n"
   ]
  },
  {
   "cell_type": "markdown",
   "metadata": {
    "user_expressions": []
   },
   "source": [
    "```{index} Jupyter; magics\n",
    "```\n",
    "\n",
    "## Jupyter Magics"
   ]
  },
  {
   "cell_type": "markdown",
   "metadata": {
    "user_expressions": []
   },
   "source": [
    "Code cells can also contain special instructions intended for JupyterLab itself, rather than the\n",
    "Python kernel. These are called *magics*. For instance, to output your current directory, you can use the \n",
    "`%pwd` magic:"
   ]
  },
  {
   "cell_type": "code",
   "execution_count": 1,
   "metadata": {
    "slideshow": {
     "slide_type": "fragment"
    },
    "tags": [
     "remove-output"
    ]
   },
   "outputs": [
    {
     "data": {
      "text/plain": [
       "'/Users/jshea/Dropbox (UFL)/teaching/stats/book/fdsp/01-intro'"
      ]
     },
     "execution_count": 1,
     "metadata": {},
     "output_type": "execute_result"
    }
   ],
   "source": [
    "%pwd"
   ]
  },
  {
   "cell_type": "markdown",
   "metadata": {
    "user_expressions": []
   },
   "source": [
    "```'~/data-science/chapter1'```"
   ]
  },
  {
   "cell_type": "markdown",
   "metadata": {
    "slideshow": {
     "slide_type": "slide"
    },
    "user_expressions": []
   },
   "source": [
    "You can use the \"%cd\" magic to change your directory (recall that~ is a shortcut for your home user directory):"
   ]
  },
  {
   "cell_type": "code",
   "execution_count": 2,
   "metadata": {
    "slideshow": {
     "slide_type": "fragment"
    }
   },
   "outputs": [
    {
     "name": "stdout",
     "output_type": "stream",
     "text": [
      "/Users/jshea\n"
     ]
    }
   ],
   "source": [
    "cd ~"
   ]
  },
  {
   "cell_type": "markdown",
   "metadata": {
    "user_expressions": []
   },
   "source": [
    "Changing directories is often useful to switch to a directory where data is stored."
   ]
  },
  {
   "cell_type": "markdown",
   "metadata": {
    "slideshow": {
     "slide_type": "fragment"
    },
    "user_expressions": []
   },
   "source": [
    "You can get a list of magics and other information about Jupyter using the `%quickref` magic. The output of `%quickref` is long, so I am only including a screenshot of the top of its output."
   ]
  },
  {
   "cell_type": "code",
   "execution_count": 3,
   "metadata": {
    "tags": [
     "remove-output"
    ]
   },
   "outputs": [
    {
     "data": {
      "text/plain": [
       "\n",
       "IPython -- An enhanced Interactive Python - Quick Reference Card\n",
       "================================================================\n",
       "\n",
       "obj?, obj??      : Get help, or more help for object (also works as\n",
       "                   ?obj, ??obj).\n",
       "?foo.*abc*       : List names in 'foo' containing 'abc' in them.\n",
       "%magic           : Information about IPython's 'magic' % functions.\n",
       "\n",
       "Magic functions are prefixed by % or %%, and typically take their arguments\n",
       "without parentheses, quotes or even commas for convenience.  Line magics take a\n",
       "single % and cell magics are prefixed with two %%.\n",
       "\n",
       "Example magic function calls:\n",
       "\n",
       "%alias d ls -F   : 'd' is now an alias for 'ls -F'\n",
       "alias d ls -F    : Works if 'alias' not a python name\n",
       "alist = %alias   : Get list of aliases to 'alist'\n",
       "cd /usr/share    : Obvious. cd -<tab> to choose from visited dirs.\n",
       "%cd??            : See help AND source for magic %cd\n",
       "%timeit x=10     : time the 'x=10' statement with high precision.\n",
       "%%timeit x=2**100\n",
       "x**100           : time 'x**100' with a setup of 'x=2**100'; setup code is not\n",
       "                   counted.  This is an example of a cell magic.\n",
       "\n",
       "System commands:\n",
       "\n",
       "!cp a.txt b/     : System command escape, calls os.system()\n",
       "cp a.txt b/      : after %rehashx, most system commands work without !\n",
       "cp ${f}.txt $bar : Variable expansion in magics and system commands\n",
       "files = !ls /usr : Capture system command output\n",
       "files.s, files.l, files.n: \"a b c\", ['a','b','c'], 'a\\nb\\nc'\n",
       "\n",
       "History:\n",
       "\n",
       "_i, _ii, _iii    : Previous, next previous, next next previous input\n",
       "_i4, _ih[2:5]    : Input history line 4, lines 2-4\n",
       "exec(_i81)       : Execute input history line #81 again\n",
       "%rep 81          : Edit input history line #81\n",
       "_, __, ___       : previous, next previous, next next previous output\n",
       "_dh              : Directory history\n",
       "_oh              : Output history\n",
       "%hist            : Command history of current session.\n",
       "%hist -g foo     : Search command history of (almost) all sessions for 'foo'.\n",
       "%hist -g         : Command history of (almost) all sessions.\n",
       "%hist 1/2-8      : Command history containing lines 2-8 of session 1.\n",
       "%hist 1/ ~2/     : Command history of session 1 and 2 sessions before current.\n",
       "%hist ~8/1-~6/5  : Command history from line 1 of 8 sessions ago to\n",
       "                   line 5 of 6 sessions ago.\n",
       "%edit 0/         : Open editor to execute code with history of current session.\n",
       "\n",
       "Autocall:\n",
       "\n",
       "f 1,2            : f(1,2)  # Off by default, enable with %autocall magic.\n",
       "/f 1,2           : f(1,2) (forced autoparen)\n",
       ",f 1 2           : f(\"1\",\"2\")\n",
       ";f 1 2           : f(\"1 2\")\n",
       "\n",
       "Remember: TAB completion works in many contexts, not just file names\n",
       "or python names.\n",
       "\n",
       "The following magic functions are currently available:\n",
       "\n",
       "%alias:\n",
       "    Define an alias for a system command.\n",
       "%alias_magic:\n",
       "    ::\n",
       "%autoawait:\n",
       "    \n",
       "%autocall:\n",
       "    Make functions callable without having to type parentheses.\n",
       "%automagic:\n",
       "    Make magic functions callable without having to type the initial %.\n",
       "%autosave:\n",
       "    Set the autosave interval in the notebook (in seconds).\n",
       "%bookmark:\n",
       "    Manage IPython's bookmark system.\n",
       "%cat:\n",
       "    Alias for `!cat`\n",
       "%cd:\n",
       "    Change the current working directory.\n",
       "%clear:\n",
       "    Clear the terminal.\n",
       "%colors:\n",
       "    Switch color scheme for prompts, info system and exception handlers.\n",
       "%conda:\n",
       "    Run the conda package manager within the current kernel.\n",
       "%config:\n",
       "    configure IPython\n",
       "%connect_info:\n",
       "    Print information for connecting other clients to this kernel\n",
       "%cp:\n",
       "    Alias for `!cp`\n",
       "%debug:\n",
       "    ::\n",
       "%dhist:\n",
       "    Print your history of visited directories.\n",
       "%dirs:\n",
       "    Return the current directory stack.\n",
       "%doctest_mode:\n",
       "    Toggle doctest mode on and off.\n",
       "%ed:\n",
       "    Alias for `%edit`.\n",
       "%edit:\n",
       "    Bring up an editor and execute the resulting code.\n",
       "%env:\n",
       "    Get, set, or list environment variables.\n",
       "%gui:\n",
       "    Enable or disable IPython GUI event loop integration.\n",
       "%hist:\n",
       "    Alias for `%history`.\n",
       "%history:\n",
       "    ::\n",
       "%killbgscripts:\n",
       "    Kill all BG processes started by %%script and its family.\n",
       "%ldir:\n",
       "    Alias for `!ls -F -G -l %l | grep /$`\n",
       "%less:\n",
       "    Show a file through the pager.\n",
       "%lf:\n",
       "    Alias for `!ls -F -l -G %l | grep ^-`\n",
       "%lk:\n",
       "    Alias for `!ls -F -l -G %l | grep ^l`\n",
       "%ll:\n",
       "    Alias for `!ls -F -l -G`\n",
       "%load:\n",
       "    Load code into the current frontend.\n",
       "%load_ext:\n",
       "    Load an IPython extension by its module name.\n",
       "%loadpy:\n",
       "    Alias of `%load`\n",
       "%logoff:\n",
       "    Temporarily stop logging.\n",
       "%logon:\n",
       "    Restart logging.\n",
       "%logstart:\n",
       "    Start logging anywhere in a session.\n",
       "%logstate:\n",
       "    Print the status of the logging system.\n",
       "%logstop:\n",
       "    Fully stop logging and close log file.\n",
       "%ls:\n",
       "    Alias for `!ls -F -G`\n",
       "%lsmagic:\n",
       "    List currently available magic functions.\n",
       "%lx:\n",
       "    Alias for `!ls -F -l -G %l | grep ^-..x`\n",
       "%macro:\n",
       "    Define a macro for future re-execution. It accepts ranges of history,\n",
       "%magic:\n",
       "    Print information about the magic function system.\n",
       "%man:\n",
       "    Find the man page for the given command and display in pager.\n",
       "%matplotlib:\n",
       "    ::\n",
       "%mkdir:\n",
       "    Alias for `!mkdir`\n",
       "%more:\n",
       "    Show a file through the pager.\n",
       "%mv:\n",
       "    Alias for `!mv`\n",
       "%notebook:\n",
       "    ::\n",
       "%page:\n",
       "    Pretty print the object and display it through a pager.\n",
       "%pastebin:\n",
       "    Upload code to dpaste.com, returning the URL.\n",
       "%pdb:\n",
       "    Control the automatic calling of the pdb interactive debugger.\n",
       "%pdef:\n",
       "    Print the call signature for any callable object.\n",
       "%pdoc:\n",
       "    Print the docstring for an object.\n",
       "%pfile:\n",
       "    Print (or run through pager) the file where an object is defined.\n",
       "%pinfo:\n",
       "    Provide detailed information about an object.\n",
       "%pinfo2:\n",
       "    Provide extra detailed information about an object.\n",
       "%pip:\n",
       "    Run the pip package manager within the current kernel.\n",
       "%popd:\n",
       "    Change to directory popped off the top of the stack.\n",
       "%pprint:\n",
       "    Toggle pretty printing on/off.\n",
       "%precision:\n",
       "    Set floating point precision for pretty printing.\n",
       "%prun:\n",
       "    Run a statement through the python code profiler.\n",
       "%psearch:\n",
       "    Search for object in namespaces by wildcard.\n",
       "%psource:\n",
       "    Print (or run through pager) the source code for an object.\n",
       "%pushd:\n",
       "    Place the current dir on stack and change directory.\n",
       "%pwd:\n",
       "    Return the current working directory path.\n",
       "%pycat:\n",
       "    Show a syntax-highlighted file through a pager.\n",
       "%pylab:\n",
       "    ::\n",
       "%qtconsole:\n",
       "    Open a qtconsole connected to this kernel.\n",
       "%quickref:\n",
       "    Show a quick reference sheet \n",
       "%recall:\n",
       "    Repeat a command, or get command to input line for editing.\n",
       "%rehashx:\n",
       "    Update the alias table with all executable files in $PATH.\n",
       "%reload_ext:\n",
       "    Reload an IPython extension by its module name.\n",
       "%rep:\n",
       "    Alias for `%recall`.\n",
       "%rerun:\n",
       "    Re-run previous input\n",
       "%reset:\n",
       "    Resets the namespace by removing all names defined by the user, if\n",
       "%reset_selective:\n",
       "    Resets the namespace by removing names defined by the user.\n",
       "%rm:\n",
       "    Alias for `!rm`\n",
       "%rmdir:\n",
       "    Alias for `!rmdir`\n",
       "%run:\n",
       "    Run the named file inside IPython as a program.\n",
       "%save:\n",
       "    Save a set of lines or a macro to a given filename.\n",
       "%sc:\n",
       "    Shell capture - run shell command and capture output (DEPRECATED use !).\n",
       "%set_env:\n",
       "    Set environment variables.  Assumptions are that either \"val\" is a\n",
       "%store:\n",
       "    Lightweight persistence for python variables.\n",
       "%sx:\n",
       "    Shell execute - run shell command and capture output (!! is short-hand).\n",
       "%system:\n",
       "    Shell execute - run shell command and capture output (!! is short-hand).\n",
       "%tb:\n",
       "    Print the last traceback.\n",
       "%time:\n",
       "    Time execution of a Python statement or expression.\n",
       "%timeit:\n",
       "    Time execution of a Python statement or expression\n",
       "%unalias:\n",
       "    Remove an alias\n",
       "%unload_ext:\n",
       "    Unload an IPython extension by its module name.\n",
       "%who:\n",
       "    Print all interactive variables, with some minimal formatting.\n",
       "%who_ls:\n",
       "    Return a sorted list of all interactive variables.\n",
       "%whos:\n",
       "    Like %who, but gives some extra information about each variable.\n",
       "%xdel:\n",
       "    Delete a variable, trying to clear it from anywhere that\n",
       "%xmode:\n",
       "    Switch modes for the exception handlers.\n",
       "%%!:\n",
       "    Shell execute - run shell command and capture output (!! is short-hand).\n",
       "%%HTML:\n",
       "    Alias for `%%html`.\n",
       "%%SVG:\n",
       "    Alias for `%%svg`.\n",
       "%%bash:\n",
       "    %%bash script magic\n",
       "%%capture:\n",
       "    ::\n",
       "%%debug:\n",
       "    ::\n",
       "%%file:\n",
       "    Alias for `%%writefile`.\n",
       "%%html:\n",
       "    ::\n",
       "%%javascript:\n",
       "    Run the cell block of Javascript code\n",
       "%%js:\n",
       "    Run the cell block of Javascript code\n",
       "%%latex:\n",
       "    Render the cell as a block of LaTeX\n",
       "%%markdown:\n",
       "    Render the cell as Markdown text block\n",
       "%%perl:\n",
       "    %%perl script magic\n",
       "%%prun:\n",
       "    Run a statement through the python code profiler.\n",
       "%%pypy:\n",
       "    %%pypy script magic\n",
       "%%python:\n",
       "    %%python script magic\n",
       "%%python2:\n",
       "    %%python2 script magic\n",
       "%%python3:\n",
       "    %%python3 script magic\n",
       "%%ruby:\n",
       "    %%ruby script magic\n",
       "%%script:\n",
       "    ::\n",
       "%%sh:\n",
       "    %%sh script magic\n",
       "%%svg:\n",
       "    Render the cell as an SVG literal\n",
       "%%sx:\n",
       "    Shell execute - run shell command and capture output (!! is short-hand).\n",
       "%%system:\n",
       "    Shell execute - run shell command and capture output (!! is short-hand).\n",
       "%%time:\n",
       "    Time execution of a Python statement or expression.\n",
       "%%timeit:\n",
       "    Time execution of a Python statement or expression\n",
       "%%writefile:\n",
       "    ::\n"
      ]
     },
     "metadata": {},
     "output_type": "display_data"
    }
   ],
   "source": [
    "%quickref"
   ]
  },
  {
   "cell_type": "markdown",
   "metadata": {
    "user_expressions": []
   },
   "source": [
    "![Top of output for %quickref](figs/quickref.pdf)"
   ]
  },
  {
   "cell_type": "markdown",
   "metadata": {
    "jp-MarkdownHeadingCollapsed": true,
    "tags": [],
    "user_expressions": []
   },
   "source": [
    "## Saving Your Work, Closing Notebooks, and Closing JupyterLab\n",
    "\n",
    "You can save your work by choosing `Save Notebook` in JupyterLab's `File` menu or by pressing the keyboard sequence listed next to that item in the menu. When you manually save your work in this way, Jupyter actually saves two copies of your work: it updates the `.ipynb` file that you see in the file list, and it also updates a *hidden* checkpoint file.  When you are editing or running your notebook file, Jupyter will also autosave your work periodically -- the default is every 120s. When Jupyter autosaves, it only updates the .ipynb file. If Jupyter crashes or you quit it without saving your notebooks, your last autosaved work will be what you see in the `.ipynb` files. However, you can always revert to the version you purposefully saved by using the `Revert Notebook to Checkpoint` item in the File menu. \n",
    "\n",
    "When starting new Jupyter notebooks, their initial name will be \"Untitled.ipynb\". You can easily rename your notebook in a couple of ways. First, you can choose the `Rename Notebook...` option from the file menu. As an alternative, you can right-click on the notebook in the left-hand Files panel and \n",
    "choose `Rename`. In both cases, be sure to change only the part of the notebook name that is in front of the `.ipynb` extension. Jupyter uses that file extension to recognize Jupyter notebook files.\n",
    "\n",
    "When you are finished working with a Jupyter notebook, I recommend you perform the following steps:\n",
    "1. First, from the `Kernel` menu, choose `Restart Kernel and Run All Cells...` This will clear the previous output from your work and rerun every cell from the top down. \n",
    "2. Check over your notebook carefully to make sure you have not introduced any errors or produced any unexpected results from having executed cells out of order or from deleting cells or their content. By performing these first two steps, you help make sure that someone else loading your notebook file will be able to reproduce your work.\n",
    "3. Check the notebook file name and update it if necessary.\n",
    "4. Save the notebook.\n",
    "5. Choose `Close and Shutdown Notebook` from Jupyter's `File` menu. \n",
    "6. If you are finished working in JupyterLab, then choose `Shut Down` from JupyterLab's `File` menu.\n",
    "\n",
    "Another common workflow in JupyterLab is to use an existing notebook as a starting point for a new notebook. Again, there are several ways to do this:\n",
    "* If you already have the existing notebook open, then you can save it under a new name by choosing `Save Notebook As...` from Jupyter's `File` menu and giving the notebook a new name. **Note that after you use this option, the notebook that is open in the main work will be the notebook with the new name. You will no longer be working on the original notebook.**\n",
    "* You can also duplicate a notebook by right-clicking on the notebook's name in the File panel on the left-hand side and choosing `Duplicate`. A copy of the notebook will be created with the name of the existing notebook appended with a suffix like `-Copy1` before the `.ipynb`."
   ]
  }
 ],
 "metadata": {
  "celltoolbar": "Slideshow",
  "finalized": {
   "timestamp": 1610567379588,
   "trusted": true
  },
  "kernelspec": {
   "display_name": "Python 3 (ipykernel)",
   "language": "python",
   "name": "python3"
  },
  "language_info": {
   "codemirror_mode": {
    "name": "ipython",
    "version": 3
   },
   "file_extension": ".py",
   "mimetype": "text/x-python",
   "name": "python",
   "nbconvert_exporter": "python",
   "pygments_lexer": "ipython3",
   "version": "3.9.15"
  }
 },
 "nbformat": 4,
 "nbformat_minor": 4
}
