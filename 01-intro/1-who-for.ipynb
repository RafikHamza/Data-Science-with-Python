{
 "cells": [
  {
   "cell_type": "markdown",
   "metadata": {
    "user_expressions": []
   },
   "source": [
    "# Who is this book for?\n",
    "\n",
    "This book is targeted toward engineers and scientists, whether working or still\n",
    "in school. Given this target audience, I assume that the reader has a basic\n",
    "working knowledge of:\n",
    "\n",
    "* computer programming (knowing Python is helpful, but not required), and \n",
    "* one-dimensional differential and integral calculus.\n",
    "\n",
    "This book is written by an engineer with degrees in both electrical and computer\n",
    "engineering. This book and its companion, *Introduction to Linear Algebra\n",
    "  for Data Science with Python* were written to provide the main textbooks for a 4-credit,\n",
    "semester-long course for engineers, taught in the Department of Electrical and\n",
    "Computer Engineering at the University of Florida. These books are  intended to be a broad\n",
    "introduction to data science, but they are also designed to replace courses in\n",
    "*Engineering Statistics* and *Computational Linear Algebra*.\n",
    "\n"
   ]
  },
  {
   "cell_type": "code",
   "execution_count": null,
   "metadata": {},
   "outputs": [],
   "source": []
  }
 ],
 "metadata": {
  "finalized": {
   "timestamp": 1617199748724,
   "trusted": true
  },
  "kernelspec": {
   "display_name": "Python 3 (ipykernel)",
   "language": "python",
   "name": "python3"
  },
  "language_info": {
   "codemirror_mode": {
    "name": "ipython",
    "version": 3
   },
   "file_extension": ".py",
   "mimetype": "text/x-python",
   "name": "python",
   "nbconvert_exporter": "python",
   "pygments_lexer": "ipython3",
   "version": "3.9.16"
  }
 },
 "nbformat": 4,
 "nbformat_minor": 4
}
