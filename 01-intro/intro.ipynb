{
 "cells": [
  {
   "cell_type": "markdown",
   "metadata": {
    "user_expressions": []
   },
   "source": [
    "# Introduction\n",
    "\n",
    "<!-- ![ML Generated Image for Prompt \"Introduction\"](introduction.jpg) -->\n",
    "<img src=\"introduction.jpg\" width=300 alt=\"ML Generated image of an android sitting in front of a computer screen that depicts a line graph and data\">\n",
    "\n",
    "This page links to interactive elements for Chapter 1 of *Foundations of Data Science with Python*\n",
    "\n",
    "Interactive elements:\n",
    "* {doc}`Section 1.3: What is Data Science?<3-what-is-data-science>` (interactive quiz and flashcards)\n",
    "* {doc}`Section 1.4: What data science topics does this book cover?<4-what-book-covers>` (interactive quiz)\n",
    "* {doc}`Section 1.5: What data science topics does this book not cover?<5-what-book-does-not-cover>` (interactive quiz)\n",
    "* {doc}`Section 1.6: Extremely Brief Intro to Jupyter and Python<6-intro-jupyter-and-python>` (interactive quiz)\n",
    "* {doc}`Section 1.7: Chapter Summary<7-summary>` (interactive quiz and flashcards)"
   ]
  }
 ],
 "metadata": {
  "finalized": {
   "timestamp": 1617199748724,
   "trusted": true
  },
  "kernelspec": {
   "display_name": "Python 3 (ipykernel)",
   "language": "python",
   "name": "python3"
  },
  "language_info": {
   "codemirror_mode": {
    "name": "ipython",
    "version": 3
   },
   "file_extension": ".py",
   "mimetype": "text/x-python",
   "name": "python",
   "nbconvert_exporter": "python",
   "pygments_lexer": "ipython3",
   "version": "3.9.16"
  }
 },
 "nbformat": 4,
 "nbformat_minor": 4
}
