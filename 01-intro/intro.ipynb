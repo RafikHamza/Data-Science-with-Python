{
 "cells": [
  {
   "cell_type": "markdown",
   "metadata": {
    "user_expressions": []
   },
   "source": [
    "# Introduction\n",
    "\n",
    "<!-- ![ML Generated Image for Prompt \"Introduction\"](introduction.jpg) -->\n",
    "<img src=\"figs/intro.jpg\" width=300 alt=\"ML Generated image of an android sitting in front of a computer screen that depicts a line graph and data\">\n",
    "\n",
    "Welcome to *Foundations of Data Science with Python*. This chapter provides an introduction to the book and its place in the field of data science, and then provides a brief introduction to some of the tools that are used throughout the book. By the end of this book, you will learn how to analyze and interpret data, formulate hypotheses about the data and perform statistical tests, and communicate your findings effectively."
   ]
  },
  {
   "cell_type": "code",
   "execution_count": null,
   "metadata": {},
   "outputs": [],
   "source": []
  }
 ],
 "metadata": {
  "finalized": {
   "timestamp": 1617199748724,
   "trusted": true
  },
  "kernelspec": {
   "display_name": "Python 3 (ipykernel)",
   "language": "python",
   "name": "python3"
  },
  "language_info": {
   "codemirror_mode": {
    "name": "ipython",
    "version": 3
   },
   "file_extension": ".py",
   "mimetype": "text/x-python",
   "name": "python",
   "nbconvert_exporter": "python",
   "pygments_lexer": "ipython3",
   "version": "3.9.15"
  }
 },
 "nbformat": 4,
 "nbformat_minor": 4
}
