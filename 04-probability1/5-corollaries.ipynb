{
 "cells": [
  {
   "cell_type": "markdown",
   "id": "46a1f256",
   "metadata": {
    "tags": [],
    "user_expressions": []
   },
   "source": [
    "```{index} axioms of probability; corollaries\n",
    "```\n",
    "\n",
    "# Corollaries to the Axioms of Probability\n",
    "\n",
    "This page is a placeholder for interactive elements for Section 4.5 of *Foundations of Data Science with Python*. \n",
    "No interactive elements are available for this section at this time.\n",
    "\n"
   ]
  }
 ],
 "metadata": {
  "kernelspec": {
   "display_name": "Python 3 (ipykernel)",
   "language": "python",
   "name": "python3"
  },
  "language_info": {
   "codemirror_mode": {
    "name": "ipython",
    "version": 3
   },
   "file_extension": ".py",
   "mimetype": "text/x-python",
   "name": "python",
   "nbconvert_exporter": "python",
   "pygments_lexer": "ipython3",
   "version": "3.9.15"
  }
 },
 "nbformat": 4,
 "nbformat_minor": 5
}
