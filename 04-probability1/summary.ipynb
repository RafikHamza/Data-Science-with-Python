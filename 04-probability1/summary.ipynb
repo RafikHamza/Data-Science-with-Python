{
 "cells": [
  {
   "cell_type": "markdown",
   "id": "bcec7874-9d71-431e-8ed6-7a19134d84eb",
   "metadata": {
    "user_expressions": []
   },
   "source": [
    "# Summary\n",
    "\n",
    "This page is a placeholder for interactive elements for Section 4.8 of *Foundations of Data Science with Python*. \n",
    "No interactive elements are available for this section at this time."
   ]
  }
 ],
 "metadata": {
  "kernelspec": {
   "display_name": "Python 3 (ipykernel)",
   "language": "python",
   "name": "python3"
  },
  "language_info": {
   "codemirror_mode": {
    "name": "ipython",
    "version": 3
   },
   "file_extension": ".py",
   "mimetype": "text/x-python",
   "name": "python",
   "nbconvert_exporter": "python",
   "pygments_lexer": "ipython3",
   "version": "3.9.15"
  }
 },
 "nbformat": 4,
 "nbformat_minor": 5
}
