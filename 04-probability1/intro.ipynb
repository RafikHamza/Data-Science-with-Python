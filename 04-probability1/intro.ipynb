{
 "cells": [
  {
   "cell_type": "markdown",
   "id": "5f1efcfd",
   "metadata": {
    "user_expressions": []
   },
   "source": [
    "# Introduction to Probability\n",
    "\n",
    "![ML Generated Image for Prompt \"Introduction to Probability\"](figs/introduction-to-probability.jpg)\n",
    "\n",
    "This page links to interactive elements for Chapter 3 of *Foundations of Data Science with Python*\n",
    "\n",
    "Interactive elements:\n",
    "\n",
    "* {doc}`Section 4.1: Outcomes, Sample Spaces, and Events<outcomes-samplespaces-events>` (interactive flashcards)\n",
    "* {doc}`Section 4.2: Relative Frequencies and Probabilities<relative-frequency>` (interactive flashcards)\n",
    "* {doc}`Section 4.3: Fair Experiments<fair-experiments>` (interactive flashcards)\n",
    "* {doc}`Section 4.4: Axiomatic Probability<axiomatic-prob>` (interactive flashcards)"
   ]
  }
 ],
 "metadata": {
  "kernelspec": {
   "display_name": "Python 3 (ipykernel)",
   "language": "python",
   "name": "python3"
  },
  "language_info": {
   "codemirror_mode": {
    "name": "ipython",
    "version": 3
   },
   "file_extension": ".py",
   "mimetype": "text/x-python",
   "name": "python",
   "nbconvert_exporter": "python",
   "pygments_lexer": "ipython3",
   "version": "3.9.15"
  }
 },
 "nbformat": 4,
 "nbformat_minor": 5
}
