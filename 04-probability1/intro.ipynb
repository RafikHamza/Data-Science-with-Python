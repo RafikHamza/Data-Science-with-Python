{
 "cells": [
  {
   "cell_type": "markdown",
   "id": "5f1efcfd",
   "metadata": {
    "editable": true,
    "slideshow": {
     "slide_type": ""
    },
    "tags": [],
    "user_expressions": []
   },
   "source": [
    "# Introduction to Probability\n",
    "\n",
    "![ML Generated Image for Prompt \"Introduction to Probability\"](figs/introduction-to-probability.jpg)\n",
    "\n",
    "This page links to interactive elements for Chapter 3 of *Foundations of Data Science with Python*\n",
    "\n",
    "Interactive elements:\n",
    "\n",
    "* {doc}`Section 4.1: Outcomes, Sample Spaces, and Events<1-outcomes-samplespaces-events>` (interactive flashcards)\n",
    "* {doc}`Section 4.2: Relative Frequencies and Probabilities<2-relative-frequency>` (interactive flashcards)\n",
    "* {doc}`Section 4.3: Fair Experiments<3-fair-experiments>` (interactive flashcards)\n",
    "* {doc}`Section 4.4: Axiomatic Probability<4-axiomatic-prob>` (interactive flashcards)\n",
    "* {doc}`Section 4.6: Combinatorics<6-combinatorics-prob>` (multiple interactive quizzes and interactive flashcards)\n",
    "* {doc}`Section 4.7: Review<7-review>` (interactive quizzes and interactive flashcards)"
   ]
  }
 ],
 "metadata": {
  "kernelspec": {
   "display_name": "Python 3 (ipykernel)",
   "language": "python",
   "name": "python3"
  },
  "language_info": {
   "codemirror_mode": {
    "name": "ipython",
    "version": 3
   },
   "file_extension": ".py",
   "mimetype": "text/x-python",
   "name": "python",
   "nbconvert_exporter": "python",
   "pygments_lexer": "ipython3",
   "version": "3.9.16"
  }
 },
 "nbformat": 4,
 "nbformat_minor": 5
}
