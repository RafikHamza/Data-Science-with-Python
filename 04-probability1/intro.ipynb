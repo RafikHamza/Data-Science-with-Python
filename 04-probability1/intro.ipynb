{
 "cells": [
  {
   "cell_type": "markdown",
   "id": "5f1efcfd",
   "metadata": {
    "editable": true,
    "slideshow": {
     "slide_type": ""
    },
    "tags": [],
    "user_expressions": []
   },
   "source": [
    "# Introduction to Probability\n",
    "\n",
    "\"Probability\" refers to mathematics for analyzing random phenomena. \n",
    "Chapter 4 of [*Foundations of Data Science with Python*](https://amzn.to/48PvKip) introduces the \n",
    "basics of probability, including:\n",
    "* defining terminology for random phenomena,\n",
    "* understanding relative frequency and its relation to probability,\n",
    "* defining what we mean by a \"fair experiment\" and how the probabilities of fair experiments can be analyzed,\n",
    "* defining Axiomatic Probability, which is the underlying approach used in modern Probability,\n",
    "* introducing Corollaries of the Axioms of Probability, as tools that facilitate calculating probabilities,\n",
    "* introducing Combinatorics, which is the mathematics of counting, and showing some examples of how Combinatorics is used in Probability,\n",
    "\n",
    "Here is a list of interactive elements for Chapter 4:\n",
    "\n",
    "* {doc}`Section 4.1: Outcomes, Sample Spaces, and Events<1-outcomes-samplespaces-events>` (interactive quiz and flashcards)\n",
    "* {doc}`Section 4.2: Relative Frequencies and Probabilities<2-relative-frequency>` (interactive quiz and flashcards)\n",
    "* {doc}`Section 4.3: Fair Experiments<3-fair-experiments>` (interactive quiz and flashcards)\n",
    "* {doc}`Section 4.4: Axiomatic Probability<4-axiomatic-prob>` (interactive quiz and flashcards)\n",
    "* {doc}`Section 4.5: Corollaries<5-corollaries>` (interactive quiz)\n",
    "* {doc}`Section 4.6: Combinatorics<6-combinatorics>` (multiple interactive quizzes and interactive flashcards)\n",
    "* {doc}`Section 4.7: Chapter Summary<7-summary>` (interactive quizzes and interactive flashcards)"
   ]
  }
 ],
 "metadata": {
  "kernelspec": {
   "display_name": "Python 3 (ipykernel)",
   "language": "python",
   "name": "python3"
  },
  "language_info": {
   "codemirror_mode": {
    "name": "ipython",
    "version": 3
   },
   "file_extension": ".py",
   "mimetype": "text/x-python",
   "name": "python",
   "nbconvert_exporter": "python",
   "pygments_lexer": "ipython3",
   "version": "3.9.16"
  }
 },
 "nbformat": 4,
 "nbformat_minor": 5
}
