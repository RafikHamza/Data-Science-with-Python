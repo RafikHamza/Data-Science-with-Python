{
 "cells": [
  {
   "cell_type": "markdown",
   "metadata": {
    "tags": []
   },
   "source": [
    "# Working with Systems of Linear Equations Using Matrices and Vectors &mdash; Part&nbsp;1\n"
   ]
  },
  {
   "cell_type": "markdown",
   "metadata": {
    "tags": []
   },
   "source": [
    "## Terminology Review\n",
    "\n",
    "Use the flashcards below to help you review the terminology introduced in this chapter. $~~~~ ~~~~ ~~~~ \\mbox{    }$"
   ]
  },
  {
   "cell_type": "code",
   "execution_count": null,
   "metadata": {
    "tags": [
     "remove-input"
    ]
   },
   "outputs": [],
   "source": [
    "from jupytercards import display_flashcards\n",
    "\n",
    "name = 'linear-eqs.json'\n",
    "\n",
    "#display_flashcards(\"flashcards/\" + name )\n",
    "\n",
    "github='https://raw.githubusercontent.com/jmshea/Foundations-of-Data-Science-with-Python/main/'\n",
    "github+='14-matrix-applications/flashcards/'\n",
    "display_flashcards(github+name)"
   ]
  }
 ],
 "metadata": {
  "finalized": {
   "timestamp": 1585326896155,
   "trusted": true
  },
  "kernelspec": {
   "display_name": "Python 3 (ipykernel)",
   "language": "python",
   "name": "python3"
  },
  "language_info": {
   "codemirror_mode": {
    "name": "ipython",
    "version": 3
   },
   "file_extension": ".py",
   "mimetype": "text/x-python",
   "name": "python",
   "nbconvert_exporter": "python",
   "pygments_lexer": "ipython3",
   "version": "3.9.15"
  }
 },
 "nbformat": 4,
 "nbformat_minor": 4
}
