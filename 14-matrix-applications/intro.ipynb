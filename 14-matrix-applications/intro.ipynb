{
 "cells": [
  {
   "cell_type": "markdown",
   "id": "deab894e-6d4a-4ca5-939b-db6a0b919690",
   "metadata": {
    "tags": [],
    "user_expressions": []
   },
   "source": [
    "# Matrices and Applications\n",
    "\n",
    "```{image} figs/matrix1.png\n",
    ":alt: ML Generated Image Showing Grid with Symbols Representing Matrix\n",
    ":class: bg-primary mb-1\n",
    ":width: 250px\n",
    ":align: center\n",
    "```\n",
    "\n",
    "* {doc}`Section 14.1: Introduction to Arrays and Matrices<matrices>` (interactive flashcards)\n",
    "* {doc}`Section 14.2: Matrix Operations<matrix-ops>` (interactive flashcards)\n",
    "* {doc}`Section 14.3: Matrix Determinant<determinant>` (interactive flashcards)\n",
    "* {doc}`Section 14.4: Working with Systems of Linear Equations Using Matrices and Vectors &mdash; Part&nbsp;1<linear-eqs>` (interactive flashcards)\n",
    "* {doc}`Section 14.5: Working with Systems of Linear Equations Using Matrices and Vectors &mdash; Part&nbsp;2<linear-eqs2>` (interactive flashcards)\n",
    "* {doc}`Section 14.6: Matrix Inverses and Solving Systems of Linear Equations<matrix-inverses>` (interactive flashcards)\n",
    "* {doc}`Section 14.8: Approximate Data Fitting<ls-fitting>` (interactive flashcards)\n",
    "* {doc}`Section 14.9: Review<review>` (interactive flashcards)\n"
   ]
  }
 ],
 "metadata": {
  "kernelspec": {
   "display_name": "Python 3 (ipykernel)",
   "language": "python",
   "name": "python3"
  },
  "language_info": {
   "codemirror_mode": {
    "name": "ipython",
    "version": 3
   },
   "file_extension": ".py",
   "mimetype": "text/x-python",
   "name": "python",
   "nbconvert_exporter": "python",
   "pygments_lexer": "ipython3",
   "version": "3.9.15"
  }
 },
 "nbformat": 4,
 "nbformat_minor": 5
}
