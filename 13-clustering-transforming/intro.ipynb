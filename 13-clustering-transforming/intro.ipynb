{
 "cells": [
  {
   "cell_type": "markdown",
   "id": "3c74523c-2e32-4b25-b367-8721f67f5756",
   "metadata": {
    "user_expressions": []
   },
   "source": [
    "# Clustering and Transforming Data\n",
    "\n",
    "This page links to interactive elements for Chapter 13 of *Foundations of Data Science with Python*\n",
    "\n",
    "Interactive elements:\n",
    "\n",
    "* {doc}`Section 13.1: Clustering Data: The K-Means Algorithm<k-means>` (interactive flashcards)\n",
    "* {doc}`Section 13.2: Vector Correlation and Projection<vector-correlation>` (interactive flashcards)\n",
    "* {doc}`Section 13.3: Summary Statistics for Vector Data<vector-stats>` (interactive flashcards)\n",
    "* {doc}`Section 13.4: Linear Regression<linear-regression>` (interactive flashcards)\n",
    "* {doc}`Section 13.7: Review<review>` (interactive flashcards)\n",
    "\n"
   ]
  },
  {
   "cell_type": "code",
   "execution_count": null,
   "id": "2402ddf1-1fc2-43d3-b57c-ebe54e805b45",
   "metadata": {},
   "outputs": [],
   "source": []
  }
 ],
 "metadata": {
  "kernelspec": {
   "display_name": "Python 3 (ipykernel)",
   "language": "python",
   "name": "python3"
  },
  "language_info": {
   "codemirror_mode": {
    "name": "ipython",
    "version": 3
   },
   "file_extension": ".py",
   "mimetype": "text/x-python",
   "name": "python",
   "nbconvert_exporter": "python",
   "pygments_lexer": "ipython3",
   "version": "3.9.15"
  }
 },
 "nbformat": 4,
 "nbformat_minor": 5
}
