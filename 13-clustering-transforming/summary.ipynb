{
 "cells": [
  {
   "cell_type": "markdown",
   "id": "225a722c-7b09-47e8-95bb-99d97e4b9e71",
   "metadata": {},
   "source": [
    "# Summary\n",
    "\n",
    "In this chapter, I introduced two techniques for working with vectors of data. First was clustering, which is an unsupervised learning algorithm that groups data based on some measure of similarity. The $K$-means algorithm is presented as a way to cluster data based on Euclidean distance, and we demonstrated $K$-means by using it to cluster the continental US states based on a combination of geography and home prices. Second, we showed how to transform data by projecting it onto other vectors. In particular, we introduced the concept of an orthonormal basis and showed how we can use that to provide alternative representations of data. I provided three examples of using such alternative bases:\n",
    "* transforming data into the frequency domain, including an example of extracting a patient's average heart rate from ECG data,\n",
    "* finding a set-specific basis using the Gram-Schmidt process, with application to optimal detection in digital communication systems, and\n",
    "* transforming data for feature extraction, with an example where we were able to build a one-dimensional classifier for two classes in the classic \"iris\" data set.\n",
    "\n",
    "Some of the mathematical operations that we carried out using vectors can often be implemented more conveniently and efficiently using matrix operations. In {doc}`Chapter 14<../14-matrix-applications>`, we will learn more about matrices, mathematical operations on matrices, and their applications."
   ]
  }
 ],
 "metadata": {
  "kernelspec": {
   "display_name": "Python 3 (ipykernel)",
   "language": "python",
   "name": "python3"
  },
  "language_info": {
   "codemirror_mode": {
    "name": "ipython",
    "version": 3
   },
   "file_extension": ".py",
   "mimetype": "text/x-python",
   "name": "python",
   "nbconvert_exporter": "python",
   "pygments_lexer": "ipython3",
   "version": "3.9.12"
  }
 },
 "nbformat": 4,
 "nbformat_minor": 5
}
