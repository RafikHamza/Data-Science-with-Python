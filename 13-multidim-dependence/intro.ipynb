{
 "cells": [
  {
   "cell_type": "markdown",
   "metadata": {
    "user_expressions": []
   },
   "source": [
    "# Working with Dependent Data in Multiple Dimensions \n",
    "\n",
    "* {doc}`Section 15.1: Jointly Distributed Pairs of Random Variables<joint-rvs>` (interactive flashcards)\n",
    "* {doc}`Section 15.2: Standardization and Linear Transformation of Numerical Data<linear-transforms>` (interactive flashcards)\n",
    "* {doc}`Section 15.3: Eigenvalues and Eigenvectors<eigen>` (interactive flashcards)\n",
    "* {doc}`Section 15.4: Decorrelating Random Vectors and Multi-Dimensional Data<decorrelation>` (interactive flashcards)\n",
    "* {doc}`Section 15.5: Principal Components Analysis<pca>` (interactive flashcards)\n",
    "* {doc}`Section 15.6: Review<pca>` (interactive flashcards)"
   ]
  }
 ],
 "metadata": {
  "celltoolbar": "Slideshow",
  "finalized": {
   "timestamp": 1604348874489,
   "trusted": true
  },
  "kernelspec": {
   "display_name": "Python 3 (ipykernel)",
   "language": "python",
   "name": "python3"
  },
  "language_info": {
   "codemirror_mode": {
    "name": "ipython",
    "version": 3
   },
   "file_extension": ".py",
   "mimetype": "text/x-python",
   "name": "python",
   "nbconvert_exporter": "python",
   "pygments_lexer": "ipython3",
   "version": "3.9.15"
  },
  "latex_envs": {
   "LaTeX_envs_menu_present": true,
   "autoclose": true,
   "autocomplete": true,
   "bibliofile": "biblio.bib",
   "cite_by": "apalike",
   "current_citInitial": 1,
   "eqLabelWithNumbers": true,
   "eqNumInitial": 1,
   "hotkeys": {
    "equation": "Ctrl-E",
    "itemize": "Ctrl-I"
   },
   "labels_anchors": false,
   "latex_user_defs": false,
   "report_style_numbering": false,
   "user_envs_cfg": false
  }
 },
 "nbformat": 4,
 "nbformat_minor": 4
}
