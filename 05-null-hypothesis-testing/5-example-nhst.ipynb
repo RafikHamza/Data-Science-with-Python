{
 "cells": [
  {
   "cell_type": "markdown",
   "id": "f819de5d-a1ee-4ca0-9e35-bdf964581258",
   "metadata": {
    "user_expressions": []
   },
   "source": [
    "# Example Null Hypothesis Significance Tests on Whether  Post-Baccalaureate Education Increases Family Wealth\n",
    "\n",
    "This page is a placeholder for interactive elements for Section 5.5 of *Foundations of Data Science with Python*. \n",
    "No interactive elements are available for this section at this time.\n"
   ]
  }
 ],
 "metadata": {
  "kernelspec": {
   "display_name": "Python 3 (ipykernel)",
   "language": "python",
   "name": "python3"
  },
  "language_info": {
   "codemirror_mode": {
    "name": "ipython",
    "version": 3
   },
   "file_extension": ".py",
   "mimetype": "text/x-python",
   "name": "python",
   "nbconvert_exporter": "python",
   "pygments_lexer": "ipython3",
   "version": "3.9.15"
  }
 },
 "nbformat": 4,
 "nbformat_minor": 5
}
