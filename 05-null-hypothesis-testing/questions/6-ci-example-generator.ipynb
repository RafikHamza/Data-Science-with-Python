{
 "cells": [
  {
   "cell_type": "code",
   "execution_count": 12,
   "id": "332bdf34-7620-4025-834d-afdc463760e9",
   "metadata": {},
   "outputs": [],
   "source": [
    "import numpy as np\n",
    "import scipy.stats as stats\n",
    "import matplotlib.pyplot as plt\n",
    "from matplotlib.ticker import (MultipleLocator, AutoMinorLocator)\n"
   ]
  },
  {
   "cell_type": "code",
   "execution_count": 16,
   "id": "012a59f6-6300-4fbf-bda9-c7083d3778b6",
   "metadata": {},
   "outputs": [],
   "source": [
    "X = stats.norm(200, 100)"
   ]
  },
  {
   "cell_type": "code",
   "execution_count": 17,
   "id": "8be97c5e-df75-44bf-a27c-da7832fba7e0",
   "metadata": {},
   "outputs": [],
   "source": [
    "x = X.rvs(200)"
   ]
  },
  {
   "cell_type": "code",
   "execution_count": 24,
   "id": "7ff91e1b-e7d8-4d8a-b2eb-500f94fbd369",
   "metadata": {},
   "outputs": [
    {
     "data": {
      "image/png": "[encoded data removed]",
      "text/plain": [
       "<Figure size 640x480 with 1 Axes>"
      ]
     },
     "metadata": {},
     "output_type": "display_data"
    }
   ],
   "source": [
    "plt.hist(x, cumulative=True, density=True, bins=50)\n",
    "plt.gca().yaxis.set_minor_locator(MultipleLocator(0.05))\n",
    "plt.grid(which='both')\n",
    "plt.savefig('cumhist1.png', bbox_inches='tight')"
   ]
  },
  {
   "cell_type": "code",
   "execution_count": 20,
   "id": "e859f1c2-88f2-4b3a-b596-291a0f336dae",
   "metadata": {},
   "outputs": [
    {
     "data": {
      "text/plain": [
       "'/Users/jshea/Dropbox (UFL)/teaching/stats/book/fdsp-public/05-null-hypothesis-testing'"
      ]
     },
     "execution_count": 20,
     "metadata": {},
     "output_type": "execute_result"
    }
   ],
   "source": [
    "pwd"
   ]
  },
  {
   "cell_type": "code",
   "execution_count": 25,
   "id": "c532152f-1a33-42f7-8428-4484543ce4bd",
   "metadata": {},
   "outputs": [
    {
     "data": {
      "text/plain": [
       "81.51355960221845"
      ]
     },
     "execution_count": 25,
     "metadata": {},
     "output_type": "execute_result"
    }
   ],
   "source": [
    "np.percentile(x, 10)"
   ]
  },
  {
   "cell_type": "code",
   "execution_count": 26,
   "id": "84d16bee-9638-48ce-8327-4984c479eb60",
   "metadata": {},
   "outputs": [
    {
     "data": {
      "text/plain": [
       "328.68675424002015"
      ]
     },
     "execution_count": 26,
     "metadata": {},
     "output_type": "execute_result"
    }
   ],
   "source": [
    "np.percentile(x,90)"
   ]
  },
  {
   "cell_type": "code",
   "execution_count": 25,
   "id": "42329f93-9d2b-4311-828b-58d22c5b4969",
   "metadata": {},
   "outputs": [
    {
     "data": {
      "text/plain": [
       "81.51355960221845"
      ]
     },
     "execution_count": 25,
     "metadata": {},
     "output_type": "execute_result"
    }
   ],
   "source": [
    "np.percentile(x, 20)"
   ]
  },
  {
   "cell_type": "code",
   "execution_count": 27,
   "id": "e6613d52-d33d-4f0d-a78c-463a3fb29d80",
   "metadata": {},
   "outputs": [
    {
     "data": {
      "text/plain": [
       "280.93273915492097"
      ]
     },
     "execution_count": 27,
     "metadata": {},
     "output_type": "execute_result"
    }
   ],
   "source": [
    "np.percentile(x,80)"
   ]
  },
  {
   "cell_type": "code",
   "execution_count": 21,
   "id": "65cf1f8f-1488-43c7-acb3-d7146e1f24f5",
   "metadata": {
    "editable": true,
    "slideshow": {
     "slide_type": ""
    },
    "tags": []
   },
   "outputs": [
    {
     "data": {
      "text/plain": [
       "23.345294935636876"
      ]
     },
     "execution_count": 21,
     "metadata": {},
     "output_type": "execute_result"
    }
   ],
   "source": [
    "np.percentile(x, 5)"
   ]
  },
  {
   "cell_type": "code",
   "execution_count": 23,
   "id": "53eca761-9d64-49ee-8a3b-b01038bf99e4",
   "metadata": {},
   "outputs": [
    {
     "data": {
      "text/plain": [
       "358.523976547946"
      ]
     },
     "execution_count": 23,
     "metadata": {},
     "output_type": "execute_result"
    }
   ],
   "source": [
    "np.percentile(x,95)"
   ]
  },
  {
   "cell_type": "code",
   "execution_count": null,
   "id": "2494217c-4859-4b7d-b605-0d8e3f20a6db",
   "metadata": {},
   "outputs": [],
   "source": []
  }
 ],
 "metadata": {
  "kernelspec": {
   "display_name": "Python 3 (ipykernel)",
   "language": "python",
   "name": "python3"
  },
  "language_info": {
   "codemirror_mode": {
    "name": "ipython",
    "version": 3
   },
   "file_extension": ".py",
   "mimetype": "text/x-python",
   "name": "python",
   "nbconvert_exporter": "python",
   "pygments_lexer": "ipython3",
   "version": "3.9.16"
  }
 },
 "nbformat": 4,
 "nbformat_minor": 5
}
