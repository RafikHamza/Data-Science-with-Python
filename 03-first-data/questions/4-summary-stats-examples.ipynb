{
 "cells": [
  {
   "cell_type": "code",
   "execution_count": 12,
   "id": "220b093a-6218-4526-9b55-7b3e4e325037",
   "metadata": {
    "editable": true,
    "slideshow": {
     "slide_type": ""
    },
    "tags": []
   },
   "outputs": [],
   "source": [
    "import numpy as np\n",
    "import numpy.random as npr\n",
    "from scipy.stats import mode"
   ]
  },
  {
   "cell_type": "code",
   "execution_count": 25,
   "id": "4ac0e9f5-0aae-4c7a-959a-f70ac71ba4f9",
   "metadata": {},
   "outputs": [
    {
     "name": "stdout",
     "output_type": "stream",
     "text": [
      "[4 5 3 4 4]\n",
      "\t 4.0\n",
      "\t 4.0\n",
      "\t ModeResult(mode=4, count=3)\n",
      "\n",
      "[2 2 4 1 1]\n",
      "\t 2.0\n",
      "\t 2.0\n",
      "\t ModeResult(mode=1, count=2)\n",
      "\n",
      "[1 5 4 2 3]\n",
      "\t 3.0\n",
      "\t 3.0\n",
      "\t ModeResult(mode=1, count=1)\n",
      "\n",
      "[3 4 4 4 5]\n",
      "\t 4.0\n",
      "\t 4.0\n",
      "\t ModeResult(mode=4, count=3)\n",
      "\n",
      "[4 2 3 4 2]\n",
      "\t 3.0\n",
      "\t 3.0\n",
      "\t ModeResult(mode=2, count=2)\n",
      "\n",
      "[1 3 5 2 4]\n",
      "\t 3.0\n",
      "\t 3.0\n",
      "\t ModeResult(mode=1, count=1)\n",
      "\n",
      "[2 2 1 1 4]\n",
      "\t 2.0\n",
      "\t 2.0\n",
      "\t ModeResult(mode=1, count=2)\n",
      "\n",
      "[5 2 3 3 2]\n",
      "\t 3.0\n",
      "\t 3.0\n",
      "\t ModeResult(mode=2, count=2)\n",
      "\n",
      "[1 4 2 4 4]\n",
      "\t 3.0\n",
      "\t 4.0\n",
      "\t ModeResult(mode=4, count=3)\n",
      "\n"
     ]
    }
   ],
   "source": [
    "for i in range(20):\n",
    "    x = npr.randint(1,6, size=5)\n",
    "    if x.mean() == np.round(x.mean()):\n",
    "        print(x)\n",
    "        print('\\t', x.mean())\n",
    "        print('\\t', np.median(x))\n",
    "        print('\\t', mode(x))\n",
    "        print()\n"
   ]
  },
  {
   "cell_type": "code",
   "execution_count": 27,
   "id": "59af4c8f-04cd-4518-9151-27b4af8862a4",
   "metadata": {},
   "outputs": [
    {
     "name": "stdout",
     "output_type": "stream",
     "text": [
      "[1 1 5 1 2]\n",
      "\t 2.0\n",
      "\t 1.0\n",
      "\t ModeResult(mode=1, count=3)\n",
      "\n",
      "[3 7 3 2 5]\n",
      "\t 4.0\n",
      "\t 3.0\n",
      "\t ModeResult(mode=3, count=2)\n",
      "\n",
      "[4 1 2 7 1]\n",
      "\t 3.0\n",
      "\t 2.0\n",
      "\t ModeResult(mode=1, count=2)\n",
      "\n"
     ]
    }
   ],
   "source": [
    "for i in range(20):\n",
    "    x = npr.randint(1,8, size=5)\n",
    "    if x.mean() == np.round(x.mean()):\n",
    "        print(x)\n",
    "        print('\\t', x.mean())\n",
    "        print('\\t', np.median(x))\n",
    "        print('\\t', mode(x))\n",
    "        print()\n"
   ]
  },
  {
   "cell_type": "code",
   "execution_count": 23,
   "id": "7cbd56b6-1ae0-49ae-9a72-cdcd053ca257",
   "metadata": {},
   "outputs": [
    {
     "name": "stdout",
     "output_type": "stream",
     "text": [
      "[6 8 8 2 6 6]\n",
      "\t 6.0\n",
      "\t 6.0\n",
      "\t ModeResult(mode=6, count=3)\n",
      "\n",
      "[5 8 5 8 3 7]\n",
      "\t 6.0\n",
      "\t 6.0\n",
      "\t ModeResult(mode=5, count=2)\n",
      "\n"
     ]
    }
   ],
   "source": [
    "for i in range(20):\n",
    "    x = npr.randint(1,10, size=6)\n",
    "    if x.mean() == np.round(x.mean()):\n",
    "        print(x)\n",
    "        print('\\t', x.mean())\n",
    "        print('\\t', np.median(x))\n",
    "        print('\\t', mode(x))\n",
    "        print()\n"
   ]
  },
  {
   "cell_type": "code",
   "execution_count": 24,
   "id": "47d691a9-4a53-4d76-8fe4-33ea14c52eb4",
   "metadata": {},
   "outputs": [
    {
     "name": "stdout",
     "output_type": "stream",
     "text": [
      "[1 4 2 1 7 3]\n",
      "\t 3.0\n",
      "\t 2.5\n",
      "\t ModeResult(mode=1, count=2)\n",
      "\n",
      "[5 2 8 1 5 9]\n",
      "\t 5.0\n",
      "\t 5.0\n",
      "\t ModeResult(mode=5, count=2)\n",
      "\n",
      "[8 5 2 3 1 5]\n",
      "\t 4.0\n",
      "\t 4.0\n",
      "\t ModeResult(mode=5, count=2)\n",
      "\n",
      "[3 5 7 3 3 3]\n",
      "\t 4.0\n",
      "\t 3.0\n",
      "\t ModeResult(mode=3, count=4)\n",
      "\n",
      "[1 3 1 2 2 9]\n",
      "\t 3.0\n",
      "\t 2.0\n",
      "\t ModeResult(mode=1, count=2)\n",
      "\n"
     ]
    }
   ],
   "source": [
    "for i in range(20):\n",
    "    x = npr.randint(1,10, size=6)\n",
    "    if x.mean() == np.round(x.mean()):\n",
    "        print(x)\n",
    "        print('\\t', x.mean())\n",
    "        print('\\t', np.median(x))\n",
    "        print('\\t', mode(x))\n",
    "        print()\n"
   ]
  },
  {
   "cell_type": "code",
   "execution_count": null,
   "id": "b6c65d18-2b37-4611-b560-34f2b5fef608",
   "metadata": {},
   "outputs": [],
   "source": []
  }
 ],
 "metadata": {
  "kernelspec": {
   "display_name": "Python 3 (ipykernel)",
   "language": "python",
   "name": "python3"
  },
  "language_info": {
   "codemirror_mode": {
    "name": "ipython",
    "version": 3
   },
   "file_extension": ".py",
   "mimetype": "text/x-python",
   "name": "python",
   "nbconvert_exporter": "python",
   "pygments_lexer": "ipython3",
   "version": "3.9.16"
  }
 },
 "nbformat": 4,
 "nbformat_minor": 5
}
