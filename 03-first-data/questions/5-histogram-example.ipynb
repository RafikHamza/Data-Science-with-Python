{
 "cells": [
  {
   "cell_type": "code",
   "execution_count": 1,
   "id": "14e2adfa-0b91-41c8-b55b-a84bce2ed50f",
   "metadata": {},
   "outputs": [],
   "source": [
    "import pandas as pd"
   ]
  },
  {
   "cell_type": "code",
   "execution_count": 2,
   "id": "ca5c693e-b491-4e95-ac65-7a921e3c97b4",
   "metadata": {},
   "outputs": [],
   "source": [
    "df = pd.read_csv( 'https://www.fdsp.net/data/covid-merged.csv' )"
   ]
  },
  {
   "cell_type": "code",
   "execution_count": 3,
   "id": "f866a4a6-5a41-44bd-a6e4-ee81116c5e76",
   "metadata": {},
   "outputs": [],
   "source": [
    "df['gdp_norm'] = df['gdp'] / df['population'] * 1000"
   ]
  },
  {
   "cell_type": "code",
   "execution_count": 4,
   "id": "881280dc-0384-4a9c-a067-c653a61c19a8",
   "metadata": {},
   "outputs": [],
   "source": [
    "mean = df['gdp_norm'].mean()"
   ]
  },
  {
   "cell_type": "code",
   "execution_count": 9,
   "id": "4ca28049-4417-4999-8161-887bc856dbfc",
   "metadata": {},
   "outputs": [
    {
     "data": {
      "text/plain": [
       "28"
      ]
     },
     "execution_count": 9,
     "metadata": {},
     "output_type": "execute_result"
    }
   ],
   "source": [
    "len(df.query('gdp_norm < @mean'))"
   ]
  },
  {
   "cell_type": "code",
   "execution_count": 12,
   "id": "9e0453ef-ad1c-48ba-9bcc-58b99580c528",
   "metadata": {},
   "outputs": [
    {
     "data": {
      "text/plain": [
       "22"
      ]
     },
     "execution_count": 12,
     "metadata": {},
     "output_type": "execute_result"
    }
   ],
   "source": [
    "len(df.query('gdp_norm >= @mean'))"
   ]
  },
  {
   "cell_type": "code",
   "execution_count": 13,
   "id": "52267897-5940-4e6b-ae28-c2c0f6414da9",
   "metadata": {},
   "outputs": [],
   "source": [
    "import numpy.random as npr\n",
    "import matplotlib.pyplot as plt"
   ]
  },
  {
   "cell_type": "code",
   "execution_count": 20,
   "id": "87c782c2-5565-4431-9440-922a61a7c357",
   "metadata": {},
   "outputs": [
    {
     "data": {
      "text/plain": [
       "array([2, 2, 4, 2, 6, 4])"
      ]
     },
     "execution_count": 20,
     "metadata": {},
     "output_type": "execute_result"
    }
   ],
   "source": [
    "x"
   ]
  },
  {
   "cell_type": "code",
   "execution_count": 28,
   "id": "966758e2-a524-4494-84ef-c0576f585d24",
   "metadata": {},
   "outputs": [
    {
     "name": "stdout",
     "output_type": "stream",
     "text": [
      "[4 6 2 4 2 4]\n"
     ]
    },
    {
     "data": {
      "text/plain": [
       "(array([2., 3., 1.]),\n",
       " array([1., 3., 5., 7.]),\n",
       " <BarContainer object of 3 artists>)"
      ]
     },
     "execution_count": 28,
     "metadata": {},
     "output_type": "execute_result"
    },
    {
     "data": {
      "image/png": "[encoded data removed]",
      "text/plain": [
       "<Figure size 640x480 with 1 Axes>"
      ]
     },
     "metadata": {},
     "output_type": "display_data"
    }
   ],
   "source": [
    "x = 2*npr.randint(1,4, size=6)\n",
    "print(x)\n",
    "plt.hist(x, bins=[1,3,5,7])"
   ]
  },
  {
   "cell_type": "code",
   "execution_count": null,
   "id": "50b2b373-cfed-4df0-89ef-7739803aae9c",
   "metadata": {},
   "outputs": [],
   "source": []
  }
 ],
 "metadata": {
  "kernelspec": {
   "display_name": "Python 3 (ipykernel)",
   "language": "python",
   "name": "python3"
  },
  "language_info": {
   "codemirror_mode": {
    "name": "ipython",
    "version": 3
   },
   "file_extension": ".py",
   "mimetype": "text/x-python",
   "name": "python",
   "nbconvert_exporter": "python",
   "pygments_lexer": "ipython3",
   "version": "3.9.16"
  }
 },
 "nbformat": 4,
 "nbformat_minor": 5
}
