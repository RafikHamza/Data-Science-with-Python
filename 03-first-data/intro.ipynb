{
 "cells": [
  {
   "cell_type": "markdown",
   "metadata": {
    "user_expressions": []
   },
   "source": [
    "# First Visualizations and Statistical Tests with Real Data\n",
    "\n",
    "\n",
    "![Comparison of Covid Rates Between Earl (April 2020) and Late (May 2023) Pandemic](figs/early-late-covidmap.pdf)"
   ]
  },
  {
   "cell_type": "markdown",
   "metadata": {
    "editable": true,
    "slideshow": {
     "slide_type": ""
    },
    "tags": [],
    "user_expressions": []
   },
   "source": [
    "This page links to interactive elements for Chapter 3 of *Foundations of Data Science with Python*\n",
    "\n",
    "Interactive elements:\n",
    "\n",
    "* {doc}`Section 3.1: Introduction to Pandas<1-pandas-start>` (interactive quiz)\n",
    "* {doc}`Section 3.2: Visualizing Multiple Data Sets - Part 1: Scatter Plots<2-visualization>` (interactive quiz and flashcards)\n",
    "* {doc}`Section 3.3: Partitions<3-partitions>` (interactive quiz and flashcards)\n",
    "* {doc}`Section 3.4: Summary Statistics<4-summary-stats>` (interactive flashcards)\n",
    "* {doc}`Section 3.6: Null Hypothesis Testing with Real Data<6-hypothesis-testing>` (interactive flashcards)\n",
    "* {doc}`Section 3.8: Chapter Summary<8-summary>` (interactive quizzes and flashcards)"
   ]
  }
 ],
 "metadata": {
  "kernelspec": {
   "display_name": "Python 3 (ipykernel)",
   "language": "python",
   "name": "python3"
  },
  "language_info": {
   "codemirror_mode": {
    "name": "ipython",
    "version": 3
   },
   "file_extension": ".py",
   "mimetype": "text/x-python",
   "name": "python",
   "nbconvert_exporter": "python",
   "pygments_lexer": "ipython3",
   "version": "3.9.16"
  }
 },
 "nbformat": 4,
 "nbformat_minor": 4
}
