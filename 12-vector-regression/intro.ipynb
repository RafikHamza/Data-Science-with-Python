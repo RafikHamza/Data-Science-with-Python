{
 "cells": [
  {
   "cell_type": "markdown",
   "metadata": {},
   "source": [
    "# Multidimensional Data: Vectors and Linear Regression"
   ]
  },
  {
   "cell_type": "markdown",
   "metadata": {
    "user_expressions": []
   },
   "source": [
    "This page links to interactive elements for Chapter 12 of *Foundations of Data Science with Python*\n",
    "\n",
    "Interactive elements:\n",
    "\n",
    "* {doc}`Section 12.1: Introduction to Vectors<vectors>` (interactive flashcards)\n",
    "* {doc}`Section 12.2: Vector Operations<vector-operations>` (interactive flashcards)\n",
    "* {doc}`Section 12.3: Summary Statistics for Vector Data<vector-stats>` (interactive flashcards)\n",
    "* {doc}`Section 12.4: Linear Regression<linear-regression>` (interactive flashcards)\n",
    "* {doc}`Section 12.7: Review<review>` (interactive flashcards)\n"
   ]
  }
 ],
 "metadata": {
  "kernelspec": {
   "display_name": "Python 3 (ipykernel)",
   "language": "python",
   "name": "python3"
  },
  "language_info": {
   "codemirror_mode": {
    "name": "ipython",
    "version": 3
   },
   "file_extension": ".py",
   "mimetype": "text/x-python",
   "name": "python",
   "nbconvert_exporter": "python",
   "pygments_lexer": "ipython3",
   "version": "3.9.15"
  }
 },
 "nbformat": 4,
 "nbformat_minor": 4
}
