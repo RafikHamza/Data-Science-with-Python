{
 "cells": [
  {
   "cell_type": "markdown",
   "id": "aa4e8edc-1673-4e4e-8c57-c4ab5d22184d",
   "metadata": {
    "user_expressions": []
   },
   "source": [
    "#  Nonlinear Regression Tests\n",
    "\n",
    "This page is a placeholder for interactive elements for Section 12.4 of *Foundations of Data Science with Python*. \n",
    "No interactive elements are available for this section at this time."
   ]
  }
 ],
 "metadata": {
  "kernelspec": {
   "display_name": "Python 3 (ipykernel)",
   "language": "python",
   "name": "python3"
  },
  "language_info": {
   "codemirror_mode": {
    "name": "ipython",
    "version": 3
   },
   "file_extension": ".py",
   "mimetype": "text/x-python",
   "name": "python",
   "nbconvert_exporter": "python",
   "pygments_lexer": "ipython3",
   "version": "3.9.16"
  }
 },
 "nbformat": 4,
 "nbformat_minor": 5
}
